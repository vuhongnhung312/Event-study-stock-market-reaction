{
 "cells": [
  {
   "cell_type": "code",
   "execution_count": 1,
   "metadata": {},
   "outputs": [],
   "source": [
    "import pandas as pd\n",
    "import numpy as np"
   ]
  },
  {
   "cell_type": "code",
   "execution_count": 2,
   "metadata": {},
   "outputs": [],
   "source": [
    "xls_IT_1 = pd.ExcelFile(r'/Users/hongnhungvu/Desktop/preview_all.xlsx')\n",
    "df_IT_1 = pd.read_excel(xls_IT_1)"
   ]
  },
  {
   "cell_type": "code",
   "execution_count": 3,
   "metadata": {},
   "outputs": [],
   "source": [
    "#Benchmark trading data\n",
    "xls_index = pd.ExcelFile(r'/Users/hongnhungvu/Desktop/Thesis_Data/Data_IT/Data_Index_2011_2021.xlsx')\n",
    "df_index = pd.read_excel(xls_index)\n",
    "df_index.rename(columns={\"TradingDate\":\"RegisterDate\",\"IndexCode\":\"Exchange\"}, inplace=True)\n",
    "\n",
    "df_index['Exchange'] = df_index['Exchange'].replace(['VNINDEX','HNXINDEX','UPCOMINDEX'],['VNI','HNX','UPCOM'])\n",
    "\n",
    "df_VNI = df_index[df_index['Exchange']=='VNI'].copy()\n",
    "df_HNX = df_index[df_index['Exchange']=='HNX'].copy()\n",
    "df_UPCOM = df_index[df_index['Exchange']=='UPCOM'].copy()\n",
    "\n",
    "#Calculate daily ret of benchmarks\n",
    "df_VNI['Rm_ret'] = df_VNI['CloseIndex'].pct_change(-1)\n",
    "df_HNX['Rm_ret'] = df_HNX['CloseIndex'].pct_change(-1)\n",
    "df_UPCOM['Rm_ret'] = df_UPCOM['CloseIndex'].pct_change(-1)"
   ]
  },
  {
   "cell_type": "code",
   "execution_count": 4,
   "metadata": {},
   "outputs": [],
   "source": [
    "#Match Benchmark Ret UPCOM\n",
    "df_IT_UPCOM = df_IT_1[df_IT_1['Exchange']=='UPCOM'].copy()\n",
    "\n",
    "for x in range(-250,0):\n",
    "    df_IT_UPCOM['Rm_T1_' + str(x)] = df_IT_UPCOM.set_index('RegisterDate').index.map(df_UPCOM.set_index('RegisterDate')['Rm_ret'].shift(x))\n",
    "\n",
    "df_IT_UPCOM['Rm_T1_0'] = df_IT_UPCOM.set_index('RegisterDate').index.map(df_UPCOM.set_index('RegisterDate')['Rm_ret'])\n",
    "\n",
    "for x in range(1,10):\n",
    "    df_IT_UPCOM['Rm_T1_' + str(x)] = df_IT_UPCOM.set_index('RegisterDate').index.map(df_UPCOM.set_index('RegisterDate')['Rm_ret'].shift(x))"
   ]
  },
  {
   "cell_type": "code",
   "execution_count": 5,
   "metadata": {},
   "outputs": [],
   "source": [
    "import statsmodels.api as sm\n",
    "\n",
    "#Regress Ri on Rm\n",
    "\n",
    "def regress(data):\n",
    "    result_all=[]\n",
    "    for i in range(len(data)):\n",
    "        Y = list(data.iloc[i][32:253])\n",
    "        X = list(data.iloc[i][292:513])\n",
    "        X = sm.add_constant(X)\n",
    "        result = sm.OLS(Y,X).fit()\n",
    "        result_all.append(result.params)\n",
    "    return result_all  \n",
    "\n",
    "#Why slice [32:253] and [292:513]\n",
    "#df_IT_UPCOM.columns.get_indexer(['Ri_T1_-250', 'Ri_T1_-30','Rm_T1_-250', 'Rm_T1_-30'])\n",
    "#array([ 32, 252, 292, 512])\n",
    "\n",
    "#Run for HNX\n",
    "res_UPCOM = regress(df_IT_UPCOM)"
   ]
  },
  {
   "cell_type": "code",
   "execution_count": 6,
   "metadata": {},
   "outputs": [],
   "source": [
    "#Insert alphas & betas into df_IT_UPCOM\n",
    "df_IT_UPCOM['alpha'] = np.array(res_UPCOM)[:,0]\n",
    "df_IT_UPCOM['beta'] = np.array(res_UPCOM)[:,1]\n",
    "\n",
    "df_IT_UPCOM = df_IT_UPCOM.drop(df_IT_UPCOM[(df_IT_UPCOM.alpha == 0) & (df_IT_UPCOM.beta == 0)].index)\n",
    "df_IT_UPCOM = df_IT_UPCOM.drop(df_IT_UPCOM[(df_IT_UPCOM.alpha.isnull()) & (df_IT_UPCOM.beta.isnull())].index)"
   ]
  },
  {
   "cell_type": "code",
   "execution_count": 7,
   "metadata": {},
   "outputs": [],
   "source": [
    "#Calculate sd of abnormal return of each stock in each event in period (-250,-30)\n",
    "\n",
    "def sd_ar(data):\n",
    "    sd_ar_all=[]\n",
    "    for i in range(len(data)):\n",
    "        R_i = list(data.iloc[i][32:253])\n",
    "        R_m = list(data.iloc[i][292:513])\n",
    "        ar = [s - data.iloc[i]['alpha'] - m*data.iloc[i]['beta'] for s,m in zip(R_i,R_m)]\n",
    "        sd_ar_all.append([np.nanstd(ar)])\n",
    "    return sd_ar_all\n",
    "\n",
    "sd_UPCOM = sd_ar(df_IT_UPCOM)"
   ]
  },
  {
   "cell_type": "code",
   "execution_count": 8,
   "metadata": {},
   "outputs": [],
   "source": [
    "#Insert sd of abnormal return into df_IT_VNI\n",
    "df_IT_UPCOM['sd_ar'] = np.array(sd_UPCOM)[:,0]"
   ]
  },
  {
   "cell_type": "code",
   "execution_count": 9,
   "metadata": {},
   "outputs": [],
   "source": [
    "#Calculate cumulative abnormal return (-30,-1)\n",
    "\n",
    "def cal_car_before(data):\n",
    "    car_all=[]\n",
    "    for i in range(len(data)):\n",
    "        r_i = list(data.iloc[i][252:282])\n",
    "        r_m = list(data.iloc[i][512:542])\n",
    "        car = np.nansum([s - data.iloc[i]['alpha'] - m*data.iloc[i]['beta'] for s,m in zip(r_i,r_m)])\n",
    "        car_all.append(car)\n",
    "    return car_all\n",
    "\n",
    "#Why slice [252:282] and [512:542]\n",
    "#df_IT_UPCOM.columns.get_indexer(['Ri_T1_-30', 'Ri_T1_-1','Rm_T1_-30', 'Rm_T1_-1'])\n",
    "#array([252, 281, 512, 541])\n",
    "\n",
    "cal_before_UPCOM = cal_car_before(df_IT_UPCOM)"
   ]
  },
  {
   "cell_type": "code",
   "execution_count": 10,
   "metadata": {},
   "outputs": [],
   "source": [
    "#Insert car before into df_IT_HNX\n",
    "df_IT_UPCOM['car_before'] = np.array(cal_before_UPCOM)"
   ]
  },
  {
   "cell_type": "code",
   "execution_count": 11,
   "metadata": {},
   "outputs": [],
   "source": [
    "df_IT_UPCOM['ar_T0'] = df_IT_UPCOM['Ri_T1_0'] - (df_IT_UPCOM['Rm_T1_0']*df_IT_UPCOM['beta']+df_IT_UPCOM['alpha'])\n",
    "\n",
    "def cal_car_after(data):\n",
    "    car_all=[]\n",
    "    for i in range(len(data)):\n",
    "        r_i = list(data.iloc[i][283:292])\n",
    "        r_m = list(data.iloc[i][543:552])\n",
    "        car = np.nansum([s - data.iloc[i]['alpha'] - m*data.iloc[i]['beta'] for s,m in zip(r_i,r_m)])\n",
    "        car_all.append(car)\n",
    "    return car_all\n",
    "\n",
    "#Why slice [283:292] and [543:552]\n",
    "#df_IT_UPCOM.columns.get_indexer(['Ri_T1_1', 'Ri_T1_9','Rm_T1_1', 'Rm_T1_9'])\n",
    "#array([283, 291, 543, 551])\n",
    "\n",
    "cal_after = cal_car_after(df_IT_UPCOM)"
   ]
  },
  {
   "cell_type": "code",
   "execution_count": 12,
   "metadata": {},
   "outputs": [],
   "source": [
    "#Insert car after into df_IT_UPCOM\n",
    "df_IT_UPCOM['car_after'] = np.array(cal_after)\n",
    "\n",
    "df_IT_UPCOM['car_t_t+n'] = df_IT_UPCOM['car_after'] + df_IT_UPCOM['ar_T0']"
   ]
  },
  {
   "cell_type": "code",
   "execution_count": 13,
   "metadata": {},
   "outputs": [
    {
     "data": {
      "text/html": [
       "<div>\n",
       "<style scoped>\n",
       "    .dataframe tbody tr th:only-of-type {\n",
       "        vertical-align: middle;\n",
       "    }\n",
       "\n",
       "    .dataframe tbody tr th {\n",
       "        vertical-align: top;\n",
       "    }\n",
       "\n",
       "    .dataframe thead th {\n",
       "        text-align: right;\n",
       "    }\n",
       "</style>\n",
       "<table border=\"1\" class=\"dataframe\">\n",
       "  <thead>\n",
       "    <tr style=\"text-align: right;\">\n",
       "      <th></th>\n",
       "      <th>StockCode</th>\n",
       "      <th>RegisterDate</th>\n",
       "      <th>ResultReportDate</th>\n",
       "      <th>DateStartExpected</th>\n",
       "      <th>DateEndExpected</th>\n",
       "      <th>DateActionFrom</th>\n",
       "      <th>DateActionTo</th>\n",
       "      <th>TypeName</th>\n",
       "      <th>RegisterVolumeBefore</th>\n",
       "      <th>RegisterVolumeBeforePercent</th>\n",
       "      <th>...</th>\n",
       "      <th>beta</th>\n",
       "      <th>sd_ar</th>\n",
       "      <th>car_before</th>\n",
       "      <th>ar_T0</th>\n",
       "      <th>car_after</th>\n",
       "      <th>car_t_t+n</th>\n",
       "      <th>t-stat_before</th>\n",
       "      <th>t-stat_eventdate</th>\n",
       "      <th>t-stat_after</th>\n",
       "      <th>t-stat_t_t+n</th>\n",
       "    </tr>\n",
       "  </thead>\n",
       "  <tbody>\n",
       "    <tr>\n",
       "      <th>219</th>\n",
       "      <td>GTH</td>\n",
       "      <td>2012-07-20</td>\n",
       "      <td>2012-08-28</td>\n",
       "      <td>2012-07-23</td>\n",
       "      <td>2012-08-21</td>\n",
       "      <td>2012-07-23</td>\n",
       "      <td>2012-08-22</td>\n",
       "      <td>GD CD noi bo</td>\n",
       "      <td>416409</td>\n",
       "      <td>0.173504</td>\n",
       "      <td>...</td>\n",
       "      <td>1.960419e+00</td>\n",
       "      <td>6.841502e-02</td>\n",
       "      <td>3.063789e-01</td>\n",
       "      <td>1.019924e-01</td>\n",
       "      <td>0.000000e+00</td>\n",
       "      <td>1.019924e-01</td>\n",
       "      <td>0.817611</td>\n",
       "      <td>1.490790</td>\n",
       "      <td>NaN</td>\n",
       "      <td>1.490790</td>\n",
       "    </tr>\n",
       "    <tr>\n",
       "      <th>244</th>\n",
       "      <td>HFX</td>\n",
       "      <td>2012-08-02</td>\n",
       "      <td>2012-09-18</td>\n",
       "      <td>2012-08-06</td>\n",
       "      <td>2012-09-05</td>\n",
       "      <td>2012-08-06</td>\n",
       "      <td>2012-09-05</td>\n",
       "      <td>GD CD noi bo</td>\n",
       "      <td>41260</td>\n",
       "      <td>0.032488</td>\n",
       "      <td>...</td>\n",
       "      <td>-2.279236e+00</td>\n",
       "      <td>1.029748e-01</td>\n",
       "      <td>-1.344608e-01</td>\n",
       "      <td>-1.180778e-02</td>\n",
       "      <td>-7.569256e-04</td>\n",
       "      <td>-1.256471e-02</td>\n",
       "      <td>-0.238399</td>\n",
       "      <td>-0.114667</td>\n",
       "      <td>-0.007351</td>\n",
       "      <td>-0.086279</td>\n",
       "    </tr>\n",
       "    <tr>\n",
       "      <th>277</th>\n",
       "      <td>CI5</td>\n",
       "      <td>2012-09-19</td>\n",
       "      <td>2012-10-05</td>\n",
       "      <td>2012-09-24</td>\n",
       "      <td>2012-10-19</td>\n",
       "      <td>2012-09-28</td>\n",
       "      <td>2012-09-28</td>\n",
       "      <td>GD CD noi bo</td>\n",
       "      <td>22800</td>\n",
       "      <td>0.018240</td>\n",
       "      <td>...</td>\n",
       "      <td>8.026156e-07</td>\n",
       "      <td>7.165680e-08</td>\n",
       "      <td>-1.718336e-07</td>\n",
       "      <td>-2.145603e-09</td>\n",
       "      <td>-8.351022e-09</td>\n",
       "      <td>-1.049662e-08</td>\n",
       "      <td>-0.437814</td>\n",
       "      <td>-0.029943</td>\n",
       "      <td>-0.082408</td>\n",
       "      <td>-0.084573</td>\n",
       "    </tr>\n",
       "    <tr>\n",
       "      <th>353</th>\n",
       "      <td>CAD</td>\n",
       "      <td>2012-11-08</td>\n",
       "      <td>2012-11-28</td>\n",
       "      <td>2012-11-12</td>\n",
       "      <td>2012-12-11</td>\n",
       "      <td>2012-11-09</td>\n",
       "      <td>2012-11-23</td>\n",
       "      <td>GD CD noi bo</td>\n",
       "      <td>1000000</td>\n",
       "      <td>0.048077</td>\n",
       "      <td>...</td>\n",
       "      <td>-3.240047e-02</td>\n",
       "      <td>5.738870e-02</td>\n",
       "      <td>7.751763e-01</td>\n",
       "      <td>4.690183e-03</td>\n",
       "      <td>-6.198443e-02</td>\n",
       "      <td>-5.729424e-02</td>\n",
       "      <td>2.466116</td>\n",
       "      <td>0.081727</td>\n",
       "      <td>-1.080081</td>\n",
       "      <td>-0.705943</td>\n",
       "    </tr>\n",
       "    <tr>\n",
       "      <th>461</th>\n",
       "      <td>SHP</td>\n",
       "      <td>2012-12-14</td>\n",
       "      <td>2013-02-20</td>\n",
       "      <td>2012-12-18</td>\n",
       "      <td>2013-01-16</td>\n",
       "      <td>2012-12-19</td>\n",
       "      <td>2013-01-10</td>\n",
       "      <td>GD CD noi bo</td>\n",
       "      <td>73250</td>\n",
       "      <td>0.000782</td>\n",
       "      <td>...</td>\n",
       "      <td>4.006730e-01</td>\n",
       "      <td>3.393257e-02</td>\n",
       "      <td>-2.771597e-01</td>\n",
       "      <td>7.100425e-03</td>\n",
       "      <td>6.483951e-03</td>\n",
       "      <td>1.358438e-02</td>\n",
       "      <td>-1.491258</td>\n",
       "      <td>0.209251</td>\n",
       "      <td>0.191083</td>\n",
       "      <td>0.283079</td>\n",
       "    </tr>\n",
       "    <tr>\n",
       "      <th>...</th>\n",
       "      <td>...</td>\n",
       "      <td>...</td>\n",
       "      <td>...</td>\n",
       "      <td>...</td>\n",
       "      <td>...</td>\n",
       "      <td>...</td>\n",
       "      <td>...</td>\n",
       "      <td>...</td>\n",
       "      <td>...</td>\n",
       "      <td>...</td>\n",
       "      <td>...</td>\n",
       "      <td>...</td>\n",
       "      <td>...</td>\n",
       "      <td>...</td>\n",
       "      <td>...</td>\n",
       "      <td>...</td>\n",
       "      <td>...</td>\n",
       "      <td>...</td>\n",
       "      <td>...</td>\n",
       "      <td>...</td>\n",
       "      <td>...</td>\n",
       "    </tr>\n",
       "    <tr>\n",
       "      <th>11899</th>\n",
       "      <td>SID</td>\n",
       "      <td>2020-11-13</td>\n",
       "      <td>2020-12-22</td>\n",
       "      <td>2020-11-17</td>\n",
       "      <td>2020-12-15</td>\n",
       "      <td>2020-11-16</td>\n",
       "      <td>2020-12-15</td>\n",
       "      <td>GD cua nguoi lien quan</td>\n",
       "      <td>96092796</td>\n",
       "      <td>0.960928</td>\n",
       "      <td>...</td>\n",
       "      <td>3.198349e-01</td>\n",
       "      <td>5.048799e-02</td>\n",
       "      <td>1.313522e-01</td>\n",
       "      <td>-1.016289e-02</td>\n",
       "      <td>9.465995e-02</td>\n",
       "      <td>8.449706e-02</td>\n",
       "      <td>0.474995</td>\n",
       "      <td>-0.201293</td>\n",
       "      <td>1.874900</td>\n",
       "      <td>1.183419</td>\n",
       "    </tr>\n",
       "    <tr>\n",
       "      <th>11903</th>\n",
       "      <td>PVP</td>\n",
       "      <td>2020-11-18</td>\n",
       "      <td>2020-12-23</td>\n",
       "      <td>2020-11-23</td>\n",
       "      <td>2020-12-22</td>\n",
       "      <td>2020-11-23</td>\n",
       "      <td>2020-12-22</td>\n",
       "      <td>GD cua nguoi lien quan</td>\n",
       "      <td>9543747</td>\n",
       "      <td>0.101233</td>\n",
       "      <td>...</td>\n",
       "      <td>1.300244e+00</td>\n",
       "      <td>3.057229e-02</td>\n",
       "      <td>6.182291e-02</td>\n",
       "      <td>6.527914e-02</td>\n",
       "      <td>2.074701e-01</td>\n",
       "      <td>2.727492e-01</td>\n",
       "      <td>0.369199</td>\n",
       "      <td>2.135239</td>\n",
       "      <td>4.798578</td>\n",
       "      <td>5.150803</td>\n",
       "    </tr>\n",
       "    <tr>\n",
       "      <th>11918</th>\n",
       "      <td>VRG</td>\n",
       "      <td>2020-12-04</td>\n",
       "      <td>2020-12-25</td>\n",
       "      <td>2020-12-07</td>\n",
       "      <td>2021-01-05</td>\n",
       "      <td>2020-12-07</td>\n",
       "      <td>2020-12-23</td>\n",
       "      <td>GD cua nguoi lien quan</td>\n",
       "      <td>1414000</td>\n",
       "      <td>0.054605</td>\n",
       "      <td>...</td>\n",
       "      <td>1.792752e+00</td>\n",
       "      <td>3.672334e-02</td>\n",
       "      <td>-2.240888e-01</td>\n",
       "      <td>9.197547e-03</td>\n",
       "      <td>0.000000e+00</td>\n",
       "      <td>9.197547e-03</td>\n",
       "      <td>-1.114083</td>\n",
       "      <td>0.250455</td>\n",
       "      <td>NaN</td>\n",
       "      <td>0.250455</td>\n",
       "    </tr>\n",
       "    <tr>\n",
       "      <th>11920</th>\n",
       "      <td>CC4</td>\n",
       "      <td>2020-11-13</td>\n",
       "      <td>2020-12-28</td>\n",
       "      <td>2020-11-17</td>\n",
       "      <td>2020-12-15</td>\n",
       "      <td>2020-11-16</td>\n",
       "      <td>2020-12-15</td>\n",
       "      <td>GD cua nguoi lien quan</td>\n",
       "      <td>2880000</td>\n",
       "      <td>0.180000</td>\n",
       "      <td>...</td>\n",
       "      <td>5.574450e-01</td>\n",
       "      <td>5.402958e-02</td>\n",
       "      <td>3.173864e-01</td>\n",
       "      <td>1.209345e-01</td>\n",
       "      <td>-2.833739e-03</td>\n",
       "      <td>1.181007e-01</td>\n",
       "      <td>1.072497</td>\n",
       "      <td>2.238301</td>\n",
       "      <td>-0.052448</td>\n",
       "      <td>1.545632</td>\n",
       "    </tr>\n",
       "    <tr>\n",
       "      <th>11930</th>\n",
       "      <td>LMI</td>\n",
       "      <td>2020-12-17</td>\n",
       "      <td>2020-12-29</td>\n",
       "      <td>2020-12-21</td>\n",
       "      <td>2020-12-30</td>\n",
       "      <td>2020-12-22</td>\n",
       "      <td>2020-12-22</td>\n",
       "      <td>GD cua nguoi lien quan</td>\n",
       "      <td>5000</td>\n",
       "      <td>0.000909</td>\n",
       "      <td>...</td>\n",
       "      <td>2.756630e-02</td>\n",
       "      <td>3.095995e-03</td>\n",
       "      <td>-8.180972e-03</td>\n",
       "      <td>-1.948779e-04</td>\n",
       "      <td>-4.380203e-04</td>\n",
       "      <td>-6.328982e-04</td>\n",
       "      <td>-0.482441</td>\n",
       "      <td>-0.062945</td>\n",
       "      <td>-0.141480</td>\n",
       "      <td>-0.144550</td>\n",
       "    </tr>\n",
       "  </tbody>\n",
       "</table>\n",
       "<p>1582 rows × 563 columns</p>\n",
       "</div>"
      ],
      "text/plain": [
       "      StockCode RegisterDate ResultReportDate DateStartExpected  \\\n",
       "219         GTH   2012-07-20       2012-08-28        2012-07-23   \n",
       "244         HFX   2012-08-02       2012-09-18        2012-08-06   \n",
       "277         CI5   2012-09-19       2012-10-05        2012-09-24   \n",
       "353         CAD   2012-11-08       2012-11-28        2012-11-12   \n",
       "461         SHP   2012-12-14       2013-02-20        2012-12-18   \n",
       "...         ...          ...              ...               ...   \n",
       "11899       SID   2020-11-13       2020-12-22        2020-11-17   \n",
       "11903       PVP   2020-11-18       2020-12-23        2020-11-23   \n",
       "11918       VRG   2020-12-04       2020-12-25        2020-12-07   \n",
       "11920       CC4   2020-11-13       2020-12-28        2020-11-17   \n",
       "11930       LMI   2020-12-17       2020-12-29        2020-12-21   \n",
       "\n",
       "      DateEndExpected DateActionFrom DateActionTo                TypeName  \\\n",
       "219        2012-08-21     2012-07-23   2012-08-22            GD CD noi bo   \n",
       "244        2012-09-05     2012-08-06   2012-09-05            GD CD noi bo   \n",
       "277        2012-10-19     2012-09-28   2012-09-28            GD CD noi bo   \n",
       "353        2012-12-11     2012-11-09   2012-11-23            GD CD noi bo   \n",
       "461        2013-01-16     2012-12-19   2013-01-10            GD CD noi bo   \n",
       "...               ...            ...          ...                     ...   \n",
       "11899      2020-12-15     2020-11-16   2020-12-15  GD cua nguoi lien quan   \n",
       "11903      2020-12-22     2020-11-23   2020-12-22  GD cua nguoi lien quan   \n",
       "11918      2021-01-05     2020-12-07   2020-12-23  GD cua nguoi lien quan   \n",
       "11920      2020-12-15     2020-11-16   2020-12-15  GD cua nguoi lien quan   \n",
       "11930      2020-12-30     2020-12-22   2020-12-22  GD cua nguoi lien quan   \n",
       "\n",
       "       RegisterVolumeBefore  RegisterVolumeBeforePercent  ...          beta  \\\n",
       "219                  416409                     0.173504  ...  1.960419e+00   \n",
       "244                   41260                     0.032488  ... -2.279236e+00   \n",
       "277                   22800                     0.018240  ...  8.026156e-07   \n",
       "353                 1000000                     0.048077  ... -3.240047e-02   \n",
       "461                   73250                     0.000782  ...  4.006730e-01   \n",
       "...                     ...                          ...  ...           ...   \n",
       "11899              96092796                     0.960928  ...  3.198349e-01   \n",
       "11903               9543747                     0.101233  ...  1.300244e+00   \n",
       "11918               1414000                     0.054605  ...  1.792752e+00   \n",
       "11920               2880000                     0.180000  ...  5.574450e-01   \n",
       "11930                  5000                     0.000909  ...  2.756630e-02   \n",
       "\n",
       "              sd_ar    car_before         ar_T0     car_after     car_t_t+n  \\\n",
       "219    6.841502e-02  3.063789e-01  1.019924e-01  0.000000e+00  1.019924e-01   \n",
       "244    1.029748e-01 -1.344608e-01 -1.180778e-02 -7.569256e-04 -1.256471e-02   \n",
       "277    7.165680e-08 -1.718336e-07 -2.145603e-09 -8.351022e-09 -1.049662e-08   \n",
       "353    5.738870e-02  7.751763e-01  4.690183e-03 -6.198443e-02 -5.729424e-02   \n",
       "461    3.393257e-02 -2.771597e-01  7.100425e-03  6.483951e-03  1.358438e-02   \n",
       "...             ...           ...           ...           ...           ...   \n",
       "11899  5.048799e-02  1.313522e-01 -1.016289e-02  9.465995e-02  8.449706e-02   \n",
       "11903  3.057229e-02  6.182291e-02  6.527914e-02  2.074701e-01  2.727492e-01   \n",
       "11918  3.672334e-02 -2.240888e-01  9.197547e-03  0.000000e+00  9.197547e-03   \n",
       "11920  5.402958e-02  3.173864e-01  1.209345e-01 -2.833739e-03  1.181007e-01   \n",
       "11930  3.095995e-03 -8.180972e-03 -1.948779e-04 -4.380203e-04 -6.328982e-04   \n",
       "\n",
       "       t-stat_before  t-stat_eventdate  t-stat_after  t-stat_t_t+n  \n",
       "219         0.817611          1.490790           NaN      1.490790  \n",
       "244        -0.238399         -0.114667     -0.007351     -0.086279  \n",
       "277        -0.437814         -0.029943     -0.082408     -0.084573  \n",
       "353         2.466116          0.081727     -1.080081     -0.705943  \n",
       "461        -1.491258          0.209251      0.191083      0.283079  \n",
       "...              ...               ...           ...           ...  \n",
       "11899       0.474995         -0.201293      1.874900      1.183419  \n",
       "11903       0.369199          2.135239      4.798578      5.150803  \n",
       "11918      -1.114083          0.250455           NaN      0.250455  \n",
       "11920       1.072497          2.238301     -0.052448      1.545632  \n",
       "11930      -0.482441         -0.062945     -0.141480     -0.144550  \n",
       "\n",
       "[1582 rows x 563 columns]"
      ]
     },
     "execution_count": 13,
     "metadata": {},
     "output_type": "execute_result"
    }
   ],
   "source": [
    "#Calculate t-statistics\n",
    "df_IT_UPCOM['t-stat_before'] = df_IT_UPCOM['car_before']/(df_IT_UPCOM['sd_ar']*(30**0.5))\n",
    "df_IT_UPCOM['t-stat_eventdate'] = df_IT_UPCOM['ar_T0']/df_IT_UPCOM['sd_ar']\n",
    "df_IT_UPCOM['t-stat_after'] = df_IT_UPCOM['car_after']/(df_IT_UPCOM['sd_ar']*((df_IT_UPCOM['Diff_days']-1)**0.5))\n",
    "df_IT_UPCOM['t-stat_t_t+n'] = df_IT_UPCOM['car_t_t+n']/(df_IT_UPCOM['sd_ar']*(df_IT_UPCOM['Diff_days']**0.5))\n",
    "\n",
    "df_IT_UPCOM"
   ]
  },
  {
   "cell_type": "code",
   "execution_count": 14,
   "metadata": {},
   "outputs": [
    {
     "data": {
      "text/plain": [
       "422"
      ]
     },
     "execution_count": 14,
     "metadata": {},
     "output_type": "execute_result"
    }
   ],
   "source": [
    "df_IT_UPCOM['StockCode'].nunique()"
   ]
  },
  {
   "cell_type": "code",
   "execution_count": 15,
   "metadata": {},
   "outputs": [],
   "source": [
    "df_UPCOM_buy = pd.DataFrame(df_IT_UPCOM[(df_IT_UPCOM['RegisterSellVolume'].isnull())])\n",
    "df_UPCOM_sell = pd.DataFrame(df_IT_UPCOM[(df_IT_UPCOM['RegisterBuyVolume'].isnull())])"
   ]
  },
  {
   "cell_type": "code",
   "execution_count": 16,
   "metadata": {},
   "outputs": [],
   "source": [
    "#Form groups of events for t-test & Wilcoxon test\n",
    "\n",
    "import scipy\n",
    "from scipy.stats import norm\n",
    "from scipy.stats import wilcoxon\n",
    "\n",
    "df_buy_1 = df_UPCOM_buy[(df_UPCOM_buy['Diff_days']==1)]\n",
    "df_sell_1 = df_UPCOM_sell[(df_UPCOM_sell['Diff_days']==1)]\n",
    "\n",
    "df_buy_2 = df_UPCOM_buy[(df_UPCOM_buy['Diff_days']==2)]\n",
    "df_sell_2 = df_UPCOM_sell[(df_UPCOM_sell['Diff_days']==2)]\n",
    "\n",
    "df_buy_3 = df_UPCOM_buy[(df_UPCOM_buy['Diff_days']==3)]\n",
    "df_sell_3 = df_UPCOM_sell[(df_UPCOM_sell['Diff_days']==3)]"
   ]
  },
  {
   "cell_type": "code",
   "execution_count": 17,
   "metadata": {},
   "outputs": [
    {
     "data": {
      "text/plain": [
       "(0.23197375848086738,\n",
       " 0.81696021544276,\n",
       " 0.0012271351153079777,\n",
       " 0.05770680177930159,\n",
       " 119)"
      ]
     },
     "execution_count": 17,
     "metadata": {},
     "output_type": "execute_result"
    }
   ],
   "source": [
    "import scipy.integrate \n",
    "\n",
    "from scipy import stats\n",
    "\n",
    "tstat_UPCOM_1_buy, pval_UPCOM_1_buy = scipy.stats.ttest_1samp(df_buy_1['car_t_t+n'],0,alternative='two-sided')\n",
    "tstat_UPCOM_1_buy, pval_UPCOM_1_buy, df_buy_1['car_t_t+n'].mean(), df_buy_1['car_t_t+n'].std(), len(df_buy_1)"
   ]
  },
  {
   "cell_type": "code",
   "execution_count": 18,
   "metadata": {},
   "outputs": [
    {
     "data": {
      "text/plain": [
       "(-3.1531599748710613,\n",
       " 0.002096283074487177,\n",
       " -0.02103722373922911,\n",
       " 0.06933528395056253,\n",
       " 108)"
      ]
     },
     "execution_count": 18,
     "metadata": {},
     "output_type": "execute_result"
    }
   ],
   "source": [
    "tstat_UPCOM_1_sell, pval_UPCOM_1_sell = scipy.stats.ttest_1samp(df_sell_1['car_t_t+n'],0,alternative='two-sided')\n",
    "tstat_UPCOM_1_sell, pval_UPCOM_1_sell, df_sell_1['car_t_t+n'].mean(), df_sell_1['car_t_t+n'].std(), len(df_sell_1)"
   ]
  },
  {
   "cell_type": "code",
   "execution_count": 19,
   "metadata": {},
   "outputs": [
    {
     "data": {
      "text/plain": [
       "(1.8280453571836592,\n",
       " 0.06832047976796808,\n",
       " 0.008591582776386301,\n",
       " 0.09209834450695864,\n",
       " 384)"
      ]
     },
     "execution_count": 19,
     "metadata": {},
     "output_type": "execute_result"
    }
   ],
   "source": [
    "tstat_UPCOM_2_buy, pval_UPCOM_2_buy = scipy.stats.ttest_1samp(df_buy_2['car_t_t+n'],0,alternative='two-sided')\n",
    "tstat_UPCOM_2_buy, pval_UPCOM_2_buy, df_buy_2['car_t_t+n'].mean(), df_buy_2['car_t_t+n'].std(), len(df_buy_2)"
   ]
  },
  {
   "cell_type": "code",
   "execution_count": 20,
   "metadata": {},
   "outputs": [
    {
     "data": {
      "text/plain": [
       "(-1.11133018795183,\n",
       " 0.2672710839695883,\n",
       " -0.0044412868864695575,\n",
       " 0.07115334916392192,\n",
       " 317)"
      ]
     },
     "execution_count": 20,
     "metadata": {},
     "output_type": "execute_result"
    }
   ],
   "source": [
    "tstat_UPCOM_2_sell, pval_UPCOM_2_sell = scipy.stats.ttest_1samp(df_sell_2['car_t_t+n'],0,alternative='two-sided')\n",
    "tstat_UPCOM_2_sell, pval_UPCOM_2_sell, df_sell_2['car_t_t+n'].mean(), df_sell_2['car_t_t+n'].std(), len(df_sell_2)"
   ]
  },
  {
   "cell_type": "code",
   "execution_count": 21,
   "metadata": {},
   "outputs": [
    {
     "data": {
      "text/plain": [
       "(2.7257990757364836,\n",
       " 0.006953571734189683,\n",
       " 0.018216994025485142,\n",
       " 0.09730850636675448,\n",
       " 212)"
      ]
     },
     "execution_count": 21,
     "metadata": {},
     "output_type": "execute_result"
    }
   ],
   "source": [
    "tstat_UPCOM_3_buy, pval_UPCOM_3_buy = scipy.stats.ttest_1samp(df_buy_3['car_t_t+n'],0,alternative='two-sided')\n",
    "tstat_UPCOM_3_buy, pval_UPCOM_3_buy, df_buy_3['car_t_t+n'].mean(), df_buy_3['car_t_t+n'].std(), len(df_buy_3)"
   ]
  },
  {
   "cell_type": "code",
   "execution_count": 22,
   "metadata": {},
   "outputs": [
    {
     "data": {
      "text/plain": [
       "(-0.33140203557035364,\n",
       " 0.7407263401716377,\n",
       " -0.0020227036870820946,\n",
       " 0.08211384374208323,\n",
       " 181)"
      ]
     },
     "execution_count": 22,
     "metadata": {},
     "output_type": "execute_result"
    }
   ],
   "source": [
    "tstat_UPCOM_3_sell, pval_UPCOM_3_sell = scipy.stats.ttest_1samp(df_sell_3['car_t_t+n'],0,alternative='two-sided')\n",
    "tstat_UPCOM_3_sell, pval_UPCOM_3_sell, df_sell_3['car_t_t+n'].mean(), df_sell_3['car_t_t+n'].std(), len(df_sell_3)"
   ]
  },
  {
   "cell_type": "code",
   "execution_count": 23,
   "metadata": {},
   "outputs": [
    {
     "data": {
      "text/plain": [
       "(3406.0, 0.6636335827110497, -0.43490197260639446, -0.0005787732179168477)"
      ]
     },
     "execution_count": 23,
     "metadata": {},
     "output_type": "execute_result"
    }
   ],
   "source": [
    "import scipy\n",
    "from scipy.stats import norm\n",
    "from scipy.stats import wilcoxon\n",
    "\n",
    "#The wilcoxon function below does not return z-score \n",
    "#so I have to reverse-engineer z-score from p-value: norm.ppf(p-value/2) as we conduct a two-sided test\n",
    "\n",
    "w1b, p1b = wilcoxon(df_buy_1[\"car_t_t+n\"])\n",
    "w1b, p1b, norm.ppf(p1b/2), df_buy_1[\"car_t_t+n\"].median()"
   ]
  },
  {
   "cell_type": "code",
   "execution_count": 24,
   "metadata": {},
   "outputs": [
    {
     "data": {
      "text/plain": [
       "(2147.0, 0.01469194990140387, -2.439884709530312, -0.0023648242642638688)"
      ]
     },
     "execution_count": 24,
     "metadata": {},
     "output_type": "execute_result"
    }
   ],
   "source": [
    "w1s, p1s = wilcoxon(df_sell_1[\"car_t_t+n\"])\n",
    "w1s, p1s, norm.ppf(p1s/2), df_sell_1[\"car_t_t+n\"].median()"
   ]
  },
  {
   "cell_type": "code",
   "execution_count": 25,
   "metadata": {},
   "outputs": [
    {
     "data": {
      "text/plain": [
       "(34609.0, 0.28005781605967395, -1.0801894709734952, -0.001376357349928349)"
      ]
     },
     "execution_count": 25,
     "metadata": {},
     "output_type": "execute_result"
    }
   ],
   "source": [
    "w2b, p2b = wilcoxon(df_buy_2[\"car_t_t+n\"])\n",
    "w2b, p2b, norm.ppf(p2b/2), df_buy_2[\"car_t_t+n\"].median()"
   ]
  },
  {
   "cell_type": "code",
   "execution_count": 26,
   "metadata": {},
   "outputs": [
    {
     "data": {
      "text/plain": [
       "(19020.0, 0.00015368404821974988, -3.785039691281219, -0.004049508400300095)"
      ]
     },
     "execution_count": 26,
     "metadata": {},
     "output_type": "execute_result"
    }
   ],
   "source": [
    "w2s, p2s = wilcoxon(df_sell_2[\"car_t_t+n\"])\n",
    "w2s, p2s, norm.ppf(p2s/2), df_sell_2[\"car_t_t+n\"].median()"
   ]
  },
  {
   "cell_type": "code",
   "execution_count": 27,
   "metadata": {},
   "outputs": [
    {
     "data": {
      "text/plain": [
       "(10393.0, 0.3163460608557669, -1.0019948899846196, -3.1079484817228855e-05)"
      ]
     },
     "execution_count": 27,
     "metadata": {},
     "output_type": "execute_result"
    }
   ],
   "source": [
    "w3b, p3b = wilcoxon(df_buy_3[\"car_t_t+n\"])\n",
    "w3b, p3b, norm.ppf(p3b/2), df_buy_3[\"car_t_t+n\"].median()"
   ]
  },
  {
   "cell_type": "code",
   "execution_count": 28,
   "metadata": {},
   "outputs": [
    {
     "data": {
      "text/plain": [
       "(7395.0, 0.23375243454166184, -1.1907482385388888, -0.004240348168774829)"
      ]
     },
     "execution_count": 28,
     "metadata": {},
     "output_type": "execute_result"
    }
   ],
   "source": [
    "w3s, p3s = wilcoxon(df_sell_3[\"car_t_t+n\"])\n",
    "w3s, p3s, norm.ppf(p3s/2), df_sell_3[\"car_t_t+n\"].median()"
   ]
  },
  {
   "cell_type": "code",
   "execution_count": null,
   "metadata": {},
   "outputs": [],
   "source": []
  },
  {
   "cell_type": "code",
   "execution_count": null,
   "metadata": {},
   "outputs": [],
   "source": []
  },
  {
   "cell_type": "code",
   "execution_count": null,
   "metadata": {},
   "outputs": [],
   "source": []
  },
  {
   "cell_type": "code",
   "execution_count": null,
   "metadata": {},
   "outputs": [],
   "source": []
  }
 ],
 "metadata": {
  "kernelspec": {
   "display_name": "Python 3",
   "language": "python",
   "name": "python3"
  },
  "language_info": {
   "codemirror_mode": {
    "name": "ipython",
    "version": 3
   },
   "file_extension": ".py",
   "mimetype": "text/x-python",
   "name": "python",
   "nbconvert_exporter": "python",
   "pygments_lexer": "ipython3",
   "version": "3.8.5"
  }
 },
 "nbformat": 4,
 "nbformat_minor": 4
}
