{
 "cells": [
  {
   "cell_type": "code",
   "execution_count": 1,
   "metadata": {},
   "outputs": [],
   "source": [
    "import pandas as pd\n",
    "import numpy as np"
   ]
  },
  {
   "cell_type": "code",
   "execution_count": 2,
   "metadata": {},
   "outputs": [],
   "source": [
    "xls_IT_1 = pd.ExcelFile(r'/Users/hongnhungvu/Desktop/preview_all.xlsx')\n",
    "df_IT_1 = pd.read_excel(xls_IT_1)"
   ]
  },
  {
   "cell_type": "code",
   "execution_count": 3,
   "metadata": {},
   "outputs": [],
   "source": [
    "#Benchmark trading data\n",
    "xls_index = pd.ExcelFile(r'/Users/hongnhungvu/Desktop/Thesis_Data/Data_IT/Data_Index_2011_2021.xlsx')\n",
    "df_index = pd.read_excel(xls_index)\n",
    "df_index.rename(columns={\"TradingDate\":\"RegisterDate\",\"IndexCode\":\"Exchange\"}, inplace=True)\n",
    "\n",
    "df_index['Exchange'] = df_index['Exchange'].replace(['VNINDEX','HNXINDEX','UPCOMINDEX'],['VNI','HNX','UPCOM'])\n",
    "\n",
    "df_VNI = df_index[df_index['Exchange']=='VNI'].copy()\n",
    "df_HNX = df_index[df_index['Exchange']=='HNX'].copy()\n",
    "df_UPCOM = df_index[df_index['Exchange']=='UPCOM'].copy()\n",
    "\n",
    "#Calculate daily ret of benchmarks\n",
    "df_VNI['Rm_ret'] = df_VNI['CloseIndex'].pct_change(-1)\n",
    "df_HNX['Rm_ret'] = df_HNX['CloseIndex'].pct_change(-1)\n",
    "df_UPCOM['Rm_ret'] = df_UPCOM['CloseIndex'].pct_change(-1)"
   ]
  },
  {
   "cell_type": "code",
   "execution_count": 4,
   "metadata": {},
   "outputs": [],
   "source": [
    "#Match Benchmark Ret HNX\n",
    "df_IT_HNX = df_IT_1[df_IT_1['Exchange']=='HNX'].copy()\n",
    "\n",
    "for x in range(-250,0):\n",
    "    df_IT_HNX['Rm_T1_' + str(x)] = df_IT_HNX.set_index('RegisterDate').index.map(df_HNX.set_index('RegisterDate')['Rm_ret'].shift(x))\n",
    "\n",
    "df_IT_HNX['Rm_T1_0'] = df_IT_HNX.set_index('RegisterDate').index.map(df_HNX.set_index('RegisterDate')['Rm_ret'])\n",
    "\n",
    "for x in range(1,10):\n",
    "    df_IT_HNX['Rm_T1_' + str(x)] = df_IT_HNX.set_index('RegisterDate').index.map(df_HNX.set_index('RegisterDate')['Rm_ret'].shift(x))"
   ]
  },
  {
   "cell_type": "code",
   "execution_count": 5,
   "metadata": {},
   "outputs": [],
   "source": [
    "import statsmodels.api as sm\n",
    "\n",
    "#Regress Ri on Rm\n",
    "\n",
    "def regress(data):\n",
    "    result_all=[]\n",
    "    for i in range(len(data)):\n",
    "        Y = list(data.iloc[i][32:253])\n",
    "        X = list(data.iloc[i][292:513])\n",
    "        X = sm.add_constant(X)\n",
    "        result = sm.OLS(Y,X).fit()\n",
    "        result_all.append(result.params)\n",
    "    return result_all  \n",
    "\n",
    "#Why slice [32:253] and [292:513]\n",
    "#df_IT_HNX.columns.get_indexer(['Ri_T1_-250', 'Ri_T1_-30','Rm_T1_-250', 'Rm_T1_-30'])\n",
    "#array([ 32, 252, 292, 512])\n",
    "\n",
    "#Run for HNX\n",
    "res_HNX = regress(df_IT_HNX)"
   ]
  },
  {
   "cell_type": "code",
   "execution_count": 6,
   "metadata": {},
   "outputs": [],
   "source": [
    "#Insert alphas & betas into df_IT_VNI\n",
    "df_IT_HNX['alpha'] = np.array(res_HNX)[:,0]\n",
    "df_IT_HNX['beta'] = np.array(res_HNX)[:,1]"
   ]
  },
  {
   "cell_type": "code",
   "execution_count": 7,
   "metadata": {},
   "outputs": [
    {
     "name": "stderr",
     "output_type": "stream",
     "text": [
      "/opt/anaconda3/lib/python3.8/site-packages/numpy/lib/nanfunctions.py:1664: RuntimeWarning: Degrees of freedom <= 0 for slice.\n",
      "  var = nanvar(a, axis=axis, dtype=dtype, out=out, ddof=ddof,\n"
     ]
    }
   ],
   "source": [
    "#Calculate sd of abnormal return of each stock in each event in period (-250,-30)\n",
    "\n",
    "def sd_ar(data):\n",
    "    sd_ar_all=[]\n",
    "    for i in range(len(data)):\n",
    "        R_i = list(data.iloc[i][32:253])\n",
    "        R_m = list(data.iloc[i][292:513])\n",
    "        ar = [s - data.iloc[i]['alpha'] - m*data.iloc[i]['beta'] for s,m in zip(R_i,R_m)]\n",
    "        sd_ar_all.append([np.nanstd(ar)])\n",
    "    return sd_ar_all\n",
    "\n",
    "sd_HNX = sd_ar(df_IT_HNX)"
   ]
  },
  {
   "cell_type": "code",
   "execution_count": 8,
   "metadata": {},
   "outputs": [],
   "source": [
    "#Insert sd of abnormal return into df_IT_VNI\n",
    "df_IT_HNX['sd_ar'] = np.array(sd_HNX)[:,0]"
   ]
  },
  {
   "cell_type": "code",
   "execution_count": 9,
   "metadata": {},
   "outputs": [],
   "source": [
    "df_IT_HNX = df_IT_HNX.drop(df_IT_HNX[df_IT_HNX.sd_ar >= 1].index)\n",
    "df_IT_HNX = df_IT_HNX.drop(df_IT_HNX[df_IT_HNX.sd_ar.isnull()].index)"
   ]
  },
  {
   "cell_type": "code",
   "execution_count": 10,
   "metadata": {},
   "outputs": [],
   "source": [
    "#Calculate cumulative abnormal return (-30,-1)\n",
    "\n",
    "def cal_car_before(data):\n",
    "    car_all=[]\n",
    "    for i in range(len(data)):\n",
    "        r_i = list(data.iloc[i][252:282])\n",
    "        r_m = list(data.iloc[i][512:542])\n",
    "        car = np.nansum([s - data.iloc[i]['alpha'] - m*data.iloc[i]['beta'] for s,m in zip(r_i,r_m)])\n",
    "        car_all.append(car)\n",
    "    return car_all\n",
    "\n",
    "#Why slice [252:282] and [512:542]\n",
    "#df_IT_HNX.columns.get_indexer(['Ri_T1_-30', 'Ri_T1_-1','Rm_T1_-30', 'Rm_T1_-1'])\n",
    "#array([252, 281, 512, 541])\n",
    "\n",
    "cal_before_HNX = cal_car_before(df_IT_HNX)"
   ]
  },
  {
   "cell_type": "code",
   "execution_count": 11,
   "metadata": {},
   "outputs": [],
   "source": [
    "#Insert car before into df_IT_HNX\n",
    "df_IT_HNX['car_before'] = np.array(cal_before_HNX)"
   ]
  },
  {
   "cell_type": "code",
   "execution_count": 12,
   "metadata": {},
   "outputs": [],
   "source": [
    "df_IT_HNX['ar_T0'] = df_IT_HNX['Ri_T1_0'] - (df_IT_HNX['Rm_T1_0']*df_IT_HNX['beta']+df_IT_HNX['alpha'])\n",
    "\n",
    "def cal_car_after(data):\n",
    "    car_all=[]\n",
    "    for i in range(len(data)):\n",
    "        r_i = list(data.iloc[i][283:292])\n",
    "        r_m = list(data.iloc[i][543:552])\n",
    "        car = np.nansum([s - data.iloc[i]['alpha'] - m*data.iloc[i]['beta'] for s,m in zip(r_i,r_m)])\n",
    "        car_all.append(car)\n",
    "    return car_all\n",
    "\n",
    "#Why slice [283:292] and [543:552]\n",
    "#df_IT_HNX.columns.get_indexer(['Ri_T1_1', 'Ri_T1_9','Rm_T1_1', 'Rm_T1_9'])\n",
    "#array([283, 291, 543, 551])\n",
    "\n",
    "cal_after = cal_car_after(df_IT_HNX)"
   ]
  },
  {
   "cell_type": "code",
   "execution_count": 13,
   "metadata": {},
   "outputs": [],
   "source": [
    "#Insert car after into df_IT_VNI\n",
    "df_IT_HNX['car_after'] = np.array(cal_after)\n",
    "\n",
    "df_IT_HNX['car_t_t+n'] = df_IT_HNX['car_after'] + df_IT_HNX['ar_T0']"
   ]
  },
  {
   "cell_type": "code",
   "execution_count": 14,
   "metadata": {},
   "outputs": [
    {
     "data": {
      "text/html": [
       "<div>\n",
       "<style scoped>\n",
       "    .dataframe tbody tr th:only-of-type {\n",
       "        vertical-align: middle;\n",
       "    }\n",
       "\n",
       "    .dataframe tbody tr th {\n",
       "        vertical-align: top;\n",
       "    }\n",
       "\n",
       "    .dataframe thead th {\n",
       "        text-align: right;\n",
       "    }\n",
       "</style>\n",
       "<table border=\"1\" class=\"dataframe\">\n",
       "  <thead>\n",
       "    <tr style=\"text-align: right;\">\n",
       "      <th></th>\n",
       "      <th>StockCode</th>\n",
       "      <th>RegisterDate</th>\n",
       "      <th>ResultReportDate</th>\n",
       "      <th>DateStartExpected</th>\n",
       "      <th>DateEndExpected</th>\n",
       "      <th>DateActionFrom</th>\n",
       "      <th>DateActionTo</th>\n",
       "      <th>TypeName</th>\n",
       "      <th>RegisterVolumeBefore</th>\n",
       "      <th>RegisterVolumeBeforePercent</th>\n",
       "      <th>...</th>\n",
       "      <th>beta</th>\n",
       "      <th>sd_ar</th>\n",
       "      <th>car_before</th>\n",
       "      <th>ar_T0</th>\n",
       "      <th>car_after</th>\n",
       "      <th>car_t_t+n</th>\n",
       "      <th>t-stat_before</th>\n",
       "      <th>t-stat_eventdate</th>\n",
       "      <th>t-stat_after</th>\n",
       "      <th>t-stat_t_t+n</th>\n",
       "    </tr>\n",
       "  </thead>\n",
       "  <tbody>\n",
       "    <tr>\n",
       "      <th>27</th>\n",
       "      <td>B82</td>\n",
       "      <td>2012-02-01</td>\n",
       "      <td>2012-03-07</td>\n",
       "      <td>2012-02-06</td>\n",
       "      <td>2012-03-05</td>\n",
       "      <td>2012-02-06</td>\n",
       "      <td>2012-03-05</td>\n",
       "      <td>GD CD noi bo</td>\n",
       "      <td>10097</td>\n",
       "      <td>0.003366</td>\n",
       "      <td>...</td>\n",
       "      <td>0.411131</td>\n",
       "      <td>0.042165</td>\n",
       "      <td>-0.350060</td>\n",
       "      <td>0.067019</td>\n",
       "      <td>0.040266</td>\n",
       "      <td>0.107285</td>\n",
       "      <td>-1.515745</td>\n",
       "      <td>1.589443</td>\n",
       "      <td>0.675248</td>\n",
       "      <td>1.469003</td>\n",
       "    </tr>\n",
       "    <tr>\n",
       "      <th>33</th>\n",
       "      <td>BVS</td>\n",
       "      <td>2012-01-13</td>\n",
       "      <td>2012-03-13</td>\n",
       "      <td>2012-01-16</td>\n",
       "      <td>2012-03-08</td>\n",
       "      <td>2012-01-17</td>\n",
       "      <td>2012-03-06</td>\n",
       "      <td>GD CD noi bo</td>\n",
       "      <td>9500</td>\n",
       "      <td>0.000132</td>\n",
       "      <td>...</td>\n",
       "      <td>1.768239</td>\n",
       "      <td>0.021498</td>\n",
       "      <td>-0.311726</td>\n",
       "      <td>0.042249</td>\n",
       "      <td>0.000000</td>\n",
       "      <td>0.042249</td>\n",
       "      <td>-2.647413</td>\n",
       "      <td>1.965274</td>\n",
       "      <td>NaN</td>\n",
       "      <td>1.965274</td>\n",
       "    </tr>\n",
       "    <tr>\n",
       "      <th>34</th>\n",
       "      <td>CJC</td>\n",
       "      <td>2012-01-06</td>\n",
       "      <td>2012-03-13</td>\n",
       "      <td>2012-01-09</td>\n",
       "      <td>2012-03-08</td>\n",
       "      <td>2012-01-09</td>\n",
       "      <td>2012-03-06</td>\n",
       "      <td>GD CD noi bo</td>\n",
       "      <td>53250</td>\n",
       "      <td>0.026625</td>\n",
       "      <td>...</td>\n",
       "      <td>0.146802</td>\n",
       "      <td>0.027993</td>\n",
       "      <td>-0.010111</td>\n",
       "      <td>0.021857</td>\n",
       "      <td>0.000000</td>\n",
       "      <td>0.021857</td>\n",
       "      <td>-0.065944</td>\n",
       "      <td>0.780807</td>\n",
       "      <td>NaN</td>\n",
       "      <td>0.780807</td>\n",
       "    </tr>\n",
       "    <tr>\n",
       "      <th>96</th>\n",
       "      <td>BVG</td>\n",
       "      <td>2012-01-20</td>\n",
       "      <td>2012-05-02</td>\n",
       "      <td>2012-01-30</td>\n",
       "      <td>2012-03-29</td>\n",
       "      <td>2012-01-30</td>\n",
       "      <td>2012-03-30</td>\n",
       "      <td>GD CD noi bo</td>\n",
       "      <td>2225000</td>\n",
       "      <td>0.228183</td>\n",
       "      <td>...</td>\n",
       "      <td>1.096484</td>\n",
       "      <td>0.034721</td>\n",
       "      <td>-0.088056</td>\n",
       "      <td>0.038797</td>\n",
       "      <td>0.022708</td>\n",
       "      <td>0.061505</td>\n",
       "      <td>-0.463021</td>\n",
       "      <td>1.117391</td>\n",
       "      <td>0.292477</td>\n",
       "      <td>0.723166</td>\n",
       "    </tr>\n",
       "    <tr>\n",
       "      <th>103</th>\n",
       "      <td>BBS</td>\n",
       "      <td>2012-02-23</td>\n",
       "      <td>2012-05-08</td>\n",
       "      <td>2012-03-01</td>\n",
       "      <td>2012-04-27</td>\n",
       "      <td>2012-03-01</td>\n",
       "      <td>2012-04-27</td>\n",
       "      <td>GD CD noi bo</td>\n",
       "      <td>105429</td>\n",
       "      <td>0.026357</td>\n",
       "      <td>...</td>\n",
       "      <td>0.289828</td>\n",
       "      <td>0.041604</td>\n",
       "      <td>0.273364</td>\n",
       "      <td>-0.002852</td>\n",
       "      <td>-0.049464</td>\n",
       "      <td>-0.052315</td>\n",
       "      <td>1.199641</td>\n",
       "      <td>-0.068544</td>\n",
       "      <td>-0.594463</td>\n",
       "      <td>-0.562358</td>\n",
       "    </tr>\n",
       "    <tr>\n",
       "      <th>...</th>\n",
       "      <td>...</td>\n",
       "      <td>...</td>\n",
       "      <td>...</td>\n",
       "      <td>...</td>\n",
       "      <td>...</td>\n",
       "      <td>...</td>\n",
       "      <td>...</td>\n",
       "      <td>...</td>\n",
       "      <td>...</td>\n",
       "      <td>...</td>\n",
       "      <td>...</td>\n",
       "      <td>...</td>\n",
       "      <td>...</td>\n",
       "      <td>...</td>\n",
       "      <td>...</td>\n",
       "      <td>...</td>\n",
       "      <td>...</td>\n",
       "      <td>...</td>\n",
       "      <td>...</td>\n",
       "      <td>...</td>\n",
       "      <td>...</td>\n",
       "    </tr>\n",
       "    <tr>\n",
       "      <th>11869</th>\n",
       "      <td>TVC</td>\n",
       "      <td>2020-11-13</td>\n",
       "      <td>2020-12-04</td>\n",
       "      <td>2020-11-18</td>\n",
       "      <td>2020-12-17</td>\n",
       "      <td>2020-11-18</td>\n",
       "      <td>2020-11-27</td>\n",
       "      <td>GD cua nguoi lien quan</td>\n",
       "      <td>15604073</td>\n",
       "      <td>0.355788</td>\n",
       "      <td>...</td>\n",
       "      <td>0.419397</td>\n",
       "      <td>0.036683</td>\n",
       "      <td>0.197355</td>\n",
       "      <td>0.011345</td>\n",
       "      <td>0.027484</td>\n",
       "      <td>0.038829</td>\n",
       "      <td>0.982241</td>\n",
       "      <td>0.309279</td>\n",
       "      <td>0.529776</td>\n",
       "      <td>0.611123</td>\n",
       "    </tr>\n",
       "    <tr>\n",
       "      <th>11872</th>\n",
       "      <td>PSC</td>\n",
       "      <td>2020-11-04</td>\n",
       "      <td>2020-12-07</td>\n",
       "      <td>2020-11-09</td>\n",
       "      <td>2020-12-07</td>\n",
       "      <td>2020-11-09</td>\n",
       "      <td>2020-12-02</td>\n",
       "      <td>GD cua nguoi lien quan</td>\n",
       "      <td>85700</td>\n",
       "      <td>0.011903</td>\n",
       "      <td>...</td>\n",
       "      <td>-0.053290</td>\n",
       "      <td>0.033942</td>\n",
       "      <td>0.037086</td>\n",
       "      <td>-0.000151</td>\n",
       "      <td>-0.001685</td>\n",
       "      <td>-0.001836</td>\n",
       "      <td>0.199490</td>\n",
       "      <td>-0.004434</td>\n",
       "      <td>-0.035112</td>\n",
       "      <td>-0.031229</td>\n",
       "    </tr>\n",
       "    <tr>\n",
       "      <th>11889</th>\n",
       "      <td>NSH</td>\n",
       "      <td>2020-12-11</td>\n",
       "      <td>2020-12-16</td>\n",
       "      <td>2020-12-14</td>\n",
       "      <td>2021-01-12</td>\n",
       "      <td>2020-12-10</td>\n",
       "      <td>2020-12-10</td>\n",
       "      <td>GD cua nguoi lien quan</td>\n",
       "      <td>57204</td>\n",
       "      <td>0.002764</td>\n",
       "      <td>...</td>\n",
       "      <td>1.051196</td>\n",
       "      <td>0.049692</td>\n",
       "      <td>0.753278</td>\n",
       "      <td>-0.042381</td>\n",
       "      <td>0.000000</td>\n",
       "      <td>-0.042381</td>\n",
       "      <td>2.767646</td>\n",
       "      <td>-0.852884</td>\n",
       "      <td>NaN</td>\n",
       "      <td>-0.852884</td>\n",
       "    </tr>\n",
       "    <tr>\n",
       "      <th>11907</th>\n",
       "      <td>TVC</td>\n",
       "      <td>2020-12-11</td>\n",
       "      <td>2020-12-23</td>\n",
       "      <td>2020-12-14</td>\n",
       "      <td>2021-01-08</td>\n",
       "      <td>2020-12-14</td>\n",
       "      <td>2020-12-21</td>\n",
       "      <td>GD cua nguoi lien quan</td>\n",
       "      <td>16104073</td>\n",
       "      <td>0.349739</td>\n",
       "      <td>...</td>\n",
       "      <td>0.481178</td>\n",
       "      <td>0.037466</td>\n",
       "      <td>0.228084</td>\n",
       "      <td>0.017226</td>\n",
       "      <td>0.000000</td>\n",
       "      <td>0.017226</td>\n",
       "      <td>1.111463</td>\n",
       "      <td>0.459765</td>\n",
       "      <td>NaN</td>\n",
       "      <td>0.459765</td>\n",
       "    </tr>\n",
       "    <tr>\n",
       "      <th>11935</th>\n",
       "      <td>VTH</td>\n",
       "      <td>2020-12-11</td>\n",
       "      <td>2020-12-30</td>\n",
       "      <td>2020-12-14</td>\n",
       "      <td>2021-01-08</td>\n",
       "      <td>2020-12-24</td>\n",
       "      <td>2020-12-24</td>\n",
       "      <td>GD cua nguoi lien quan</td>\n",
       "      <td>249700</td>\n",
       "      <td>0.049940</td>\n",
       "      <td>...</td>\n",
       "      <td>0.005216</td>\n",
       "      <td>0.006427</td>\n",
       "      <td>0.013676</td>\n",
       "      <td>0.000387</td>\n",
       "      <td>0.000000</td>\n",
       "      <td>0.000387</td>\n",
       "      <td>0.388499</td>\n",
       "      <td>0.060186</td>\n",
       "      <td>NaN</td>\n",
       "      <td>0.060186</td>\n",
       "    </tr>\n",
       "  </tbody>\n",
       "</table>\n",
       "<p>2344 rows × 563 columns</p>\n",
       "</div>"
      ],
      "text/plain": [
       "      StockCode RegisterDate ResultReportDate DateStartExpected  \\\n",
       "27          B82   2012-02-01       2012-03-07        2012-02-06   \n",
       "33          BVS   2012-01-13       2012-03-13        2012-01-16   \n",
       "34          CJC   2012-01-06       2012-03-13        2012-01-09   \n",
       "96          BVG   2012-01-20       2012-05-02        2012-01-30   \n",
       "103         BBS   2012-02-23       2012-05-08        2012-03-01   \n",
       "...         ...          ...              ...               ...   \n",
       "11869       TVC   2020-11-13       2020-12-04        2020-11-18   \n",
       "11872       PSC   2020-11-04       2020-12-07        2020-11-09   \n",
       "11889       NSH   2020-12-11       2020-12-16        2020-12-14   \n",
       "11907       TVC   2020-12-11       2020-12-23        2020-12-14   \n",
       "11935       VTH   2020-12-11       2020-12-30        2020-12-14   \n",
       "\n",
       "      DateEndExpected DateActionFrom DateActionTo                TypeName  \\\n",
       "27         2012-03-05     2012-02-06   2012-03-05            GD CD noi bo   \n",
       "33         2012-03-08     2012-01-17   2012-03-06            GD CD noi bo   \n",
       "34         2012-03-08     2012-01-09   2012-03-06            GD CD noi bo   \n",
       "96         2012-03-29     2012-01-30   2012-03-30            GD CD noi bo   \n",
       "103        2012-04-27     2012-03-01   2012-04-27            GD CD noi bo   \n",
       "...               ...            ...          ...                     ...   \n",
       "11869      2020-12-17     2020-11-18   2020-11-27  GD cua nguoi lien quan   \n",
       "11872      2020-12-07     2020-11-09   2020-12-02  GD cua nguoi lien quan   \n",
       "11889      2021-01-12     2020-12-10   2020-12-10  GD cua nguoi lien quan   \n",
       "11907      2021-01-08     2020-12-14   2020-12-21  GD cua nguoi lien quan   \n",
       "11935      2021-01-08     2020-12-24   2020-12-24  GD cua nguoi lien quan   \n",
       "\n",
       "       RegisterVolumeBefore  RegisterVolumeBeforePercent  ...      beta  \\\n",
       "27                    10097                     0.003366  ...  0.411131   \n",
       "33                     9500                     0.000132  ...  1.768239   \n",
       "34                    53250                     0.026625  ...  0.146802   \n",
       "96                  2225000                     0.228183  ...  1.096484   \n",
       "103                  105429                     0.026357  ...  0.289828   \n",
       "...                     ...                          ...  ...       ...   \n",
       "11869              15604073                     0.355788  ...  0.419397   \n",
       "11872                 85700                     0.011903  ... -0.053290   \n",
       "11889                 57204                     0.002764  ...  1.051196   \n",
       "11907              16104073                     0.349739  ...  0.481178   \n",
       "11935                249700                     0.049940  ...  0.005216   \n",
       "\n",
       "          sd_ar  car_before     ar_T0  car_after  car_t_t+n  t-stat_before  \\\n",
       "27     0.042165   -0.350060  0.067019   0.040266   0.107285      -1.515745   \n",
       "33     0.021498   -0.311726  0.042249   0.000000   0.042249      -2.647413   \n",
       "34     0.027993   -0.010111  0.021857   0.000000   0.021857      -0.065944   \n",
       "96     0.034721   -0.088056  0.038797   0.022708   0.061505      -0.463021   \n",
       "103    0.041604    0.273364 -0.002852  -0.049464  -0.052315       1.199641   \n",
       "...         ...         ...       ...        ...        ...            ...   \n",
       "11869  0.036683    0.197355  0.011345   0.027484   0.038829       0.982241   \n",
       "11872  0.033942    0.037086 -0.000151  -0.001685  -0.001836       0.199490   \n",
       "11889  0.049692    0.753278 -0.042381   0.000000  -0.042381       2.767646   \n",
       "11907  0.037466    0.228084  0.017226   0.000000   0.017226       1.111463   \n",
       "11935  0.006427    0.013676  0.000387   0.000000   0.000387       0.388499   \n",
       "\n",
       "       t-stat_eventdate  t-stat_after  t-stat_t_t+n  \n",
       "27             1.589443      0.675248      1.469003  \n",
       "33             1.965274           NaN      1.965274  \n",
       "34             0.780807           NaN      0.780807  \n",
       "96             1.117391      0.292477      0.723166  \n",
       "103           -0.068544     -0.594463     -0.562358  \n",
       "...                 ...           ...           ...  \n",
       "11869          0.309279      0.529776      0.611123  \n",
       "11872         -0.004434     -0.035112     -0.031229  \n",
       "11889         -0.852884           NaN     -0.852884  \n",
       "11907          0.459765           NaN      0.459765  \n",
       "11935          0.060186           NaN      0.060186  \n",
       "\n",
       "[2344 rows x 563 columns]"
      ]
     },
     "execution_count": 14,
     "metadata": {},
     "output_type": "execute_result"
    }
   ],
   "source": [
    "#Calculate t-statistics for event study of each event, yet I don't use this result\n",
    "df_IT_HNX['t-stat_before'] = df_IT_HNX['car_before']/(df_IT_HNX['sd_ar']*(30**0.5))\n",
    "df_IT_HNX['t-stat_eventdate'] = df_IT_HNX['ar_T0']/df_IT_HNX['sd_ar']\n",
    "df_IT_HNX['t-stat_after'] = df_IT_HNX['car_after']/(df_IT_HNX['sd_ar']*((df_IT_HNX['Diff_days']-1)**0.5))\n",
    "df_IT_HNX['t-stat_t_t+n'] = df_IT_HNX['car_t_t+n']/(df_IT_HNX['sd_ar']*(df_IT_HNX['Diff_days']**0.5))\n",
    "\n",
    "df_IT_HNX"
   ]
  },
  {
   "cell_type": "code",
   "execution_count": 15,
   "metadata": {},
   "outputs": [
    {
     "data": {
      "text/plain": [
       "384"
      ]
     },
     "execution_count": 15,
     "metadata": {},
     "output_type": "execute_result"
    }
   ],
   "source": [
    "df_IT_HNX['StockCode'].nunique()"
   ]
  },
  {
   "cell_type": "code",
   "execution_count": 16,
   "metadata": {},
   "outputs": [],
   "source": [
    "df_HNX_buy = pd.DataFrame(df_IT_HNX[(df_IT_HNX['RegisterSellVolume'].isnull())])\n",
    "df_HNX_sell = pd.DataFrame(df_IT_HNX[(df_IT_HNX['RegisterBuyVolume'].isnull())])"
   ]
  },
  {
   "cell_type": "code",
   "execution_count": 17,
   "metadata": {},
   "outputs": [],
   "source": [
    "#Form groups of events for t-test & Wilcoxon test\n",
    "\n",
    "import scipy\n",
    "from scipy.stats import norm\n",
    "from scipy.stats import wilcoxon\n",
    "\n",
    "df_buy_1 = df_HNX_buy[(df_HNX_buy['Diff_days']==1)]\n",
    "df_sell_1 = df_HNX_sell[(df_HNX_sell['Diff_days']==1)]\n",
    "\n",
    "df_buy_2 = df_HNX_buy[(df_HNX_buy['Diff_days']==2)]\n",
    "df_sell_2 = df_HNX_sell[(df_HNX_sell['Diff_days']==2)]\n",
    "\n",
    "df_buy_3 = df_HNX_buy[(df_HNX_buy['Diff_days']==3)]\n",
    "df_sell_3 = df_HNX_sell[(df_HNX_sell['Diff_days']==3)]"
   ]
  },
  {
   "cell_type": "code",
   "execution_count": 18,
   "metadata": {},
   "outputs": [
    {
     "data": {
      "text/plain": [
       "(1.382425818538836,\n",
       " 0.16874387902685192,\n",
       " 0.004378040864333187,\n",
       " 0.040432610015725914,\n",
       " 163)"
      ]
     },
     "execution_count": 18,
     "metadata": {},
     "output_type": "execute_result"
    }
   ],
   "source": [
    "import scipy.integrate \n",
    "\n",
    "from scipy import stats\n",
    "\n",
    "tstat_HNX_1_buy, pval_HNX_1_buy = scipy.stats.ttest_1samp(df_buy_1['car_t_t+n'],0,alternative='two-sided')\n",
    "tstat_HNX_1_buy, pval_HNX_1_buy, df_buy_1['car_t_t+n'].mean(), df_buy_1['car_t_t+n'].std(), len(df_buy_1)"
   ]
  },
  {
   "cell_type": "code",
   "execution_count": 19,
   "metadata": {},
   "outputs": [
    {
     "data": {
      "text/plain": [
       "(-0.1335807079348853,\n",
       " 0.8938817295369765,\n",
       " -0.0003638879925858776,\n",
       " 0.03685102136357,\n",
       " 183)"
      ]
     },
     "execution_count": 19,
     "metadata": {},
     "output_type": "execute_result"
    }
   ],
   "source": [
    "tstat_HNX_1_sell, pval_HNX_1_sell = scipy.stats.ttest_1samp(df_sell_1['car_t_t+n'],0,alternative='two-sided')\n",
    "tstat_HNX_1_sell, pval_HNX_1_sell, df_sell_1['car_t_t+n'].mean(), df_sell_1['car_t_t+n'].std(), len(df_sell_1)"
   ]
  },
  {
   "cell_type": "code",
   "execution_count": 20,
   "metadata": {},
   "outputs": [
    {
     "data": {
      "text/plain": [
       "(3.8071109561337075,\n",
       " 0.00016063879891897303,\n",
       " 0.009991129478517527,\n",
       " 0.05498589685046139,\n",
       " 439)"
      ]
     },
     "execution_count": 20,
     "metadata": {},
     "output_type": "execute_result"
    }
   ],
   "source": [
    "tstat_HNX_2_buy, pval_HNX_2_buy = scipy.stats.ttest_1samp(df_buy_2['car_t_t+n'],0,alternative='two-sided')\n",
    "tstat_HNX_2_buy, pval_HNX_2_buy, df_buy_2['car_t_t+n'].mean(), df_buy_2['car_t_t+n'].std(), len(df_buy_2)"
   ]
  },
  {
   "cell_type": "code",
   "execution_count": 21,
   "metadata": {},
   "outputs": [
    {
     "data": {
      "text/plain": [
       "(-1.1009390508470167,\n",
       " 0.2713944922152501,\n",
       " -0.0025940380337907275,\n",
       " 0.05590713797450507,\n",
       " 563)"
      ]
     },
     "execution_count": 21,
     "metadata": {},
     "output_type": "execute_result"
    }
   ],
   "source": [
    "tstat_HNX_2_sell, pval_HNX_2_sell = scipy.stats.ttest_1samp(df_sell_2['car_t_t+n'],0,alternative='two-sided')\n",
    "tstat_HNX_2_sell, pval_HNX_2_sell, df_sell_2['car_t_t+n'].mean(), df_sell_2['car_t_t+n'].std(), len(df_sell_2)"
   ]
  },
  {
   "cell_type": "code",
   "execution_count": 22,
   "metadata": {},
   "outputs": [
    {
     "data": {
      "text/plain": [
       "(2.6195520036429776,\n",
       " 0.009274420096127398,\n",
       " 0.011650622850251025,\n",
       " 0.07534649726745576,\n",
       " 287)"
      ]
     },
     "execution_count": 22,
     "metadata": {},
     "output_type": "execute_result"
    }
   ],
   "source": [
    "tstat_HNX_3_buy, pval_HNX_3_buy = scipy.stats.ttest_1samp(df_buy_3['car_t_t+n'],0,alternative='two-sided')\n",
    "tstat_HNX_3_buy, pval_HNX_3_buy, df_buy_3['car_t_t+n'].mean(), df_buy_3['car_t_t+n'].std(), len(df_buy_3)"
   ]
  },
  {
   "cell_type": "code",
   "execution_count": 23,
   "metadata": {},
   "outputs": [
    {
     "data": {
      "text/plain": [
       "(-0.6577117427152372,\n",
       " 0.5111143843365493,\n",
       " -0.00249597271610211,\n",
       " 0.07475153250744286,\n",
       " 388)"
      ]
     },
     "execution_count": 23,
     "metadata": {},
     "output_type": "execute_result"
    }
   ],
   "source": [
    "tstat_HNX_3_sell, pval_HNX_3_sell = scipy.stats.ttest_1samp(df_sell_3['car_t_t+n'],0,alternative='two-sided')\n",
    "tstat_HNX_3_sell, pval_HNX_3_sell, df_sell_3['car_t_t+n'].mean(), df_sell_3['car_t_t+n'].std(), len(df_sell_3)"
   ]
  },
  {
   "cell_type": "code",
   "execution_count": 24,
   "metadata": {},
   "outputs": [
    {
     "data": {
      "text/plain": [
       "(6313.0, 0.5398206638222165, -0.6130842045560476, -0.00023720057190935756)"
      ]
     },
     "execution_count": 24,
     "metadata": {},
     "output_type": "execute_result"
    }
   ],
   "source": [
    "import scipy\n",
    "from scipy.stats import norm\n",
    "from scipy.stats import wilcoxon\n",
    "\n",
    "#The wilcoxon function below does not return z-score \n",
    "#so I have to reverse-engineer z-score from p-value: norm.ppf(p-value/2) as we conduct a two-sided test\n",
    "\n",
    "w1b, p1b = wilcoxon(df_buy_1[\"car_t_t+n\"])\n",
    "w1b, p1b, norm.ppf(p1b/2), df_buy_1[\"car_t_t+n\"].median()"
   ]
  },
  {
   "cell_type": "code",
   "execution_count": 25,
   "metadata": {},
   "outputs": [
    {
     "data": {
      "text/plain": [
       "(7725.0, 0.334159192868707, -0.9657701806927574, -0.0013258846571858264)"
      ]
     },
     "execution_count": 25,
     "metadata": {},
     "output_type": "execute_result"
    }
   ],
   "source": [
    "w1s, p1s = wilcoxon(df_sell_1[\"car_t_t+n\"])\n",
    "w1s, p1s, norm.ppf(p1s/2), df_sell_1[\"car_t_t+n\"].median()"
   ]
  },
  {
   "cell_type": "code",
   "execution_count": 26,
   "metadata": {},
   "outputs": [
    {
     "data": {
      "text/plain": [
       "(39599.0, 0.0010847972356155084, -3.267557772302731, 0.0011935867436732286)"
      ]
     },
     "execution_count": 26,
     "metadata": {},
     "output_type": "execute_result"
    }
   ],
   "source": [
    "w2b, p2b = wilcoxon(df_buy_2[\"car_t_t+n\"])\n",
    "w2b, p2b, norm.ppf(p2b/2), df_buy_2[\"car_t_t+n\"].median()"
   ]
  },
  {
   "cell_type": "code",
   "execution_count": 27,
   "metadata": {},
   "outputs": [
    {
     "data": {
      "text/plain": [
       "(69689.0, 0.012057405403036323, -2.5104597873282417, -0.0037167416242984636)"
      ]
     },
     "execution_count": 27,
     "metadata": {},
     "output_type": "execute_result"
    }
   ],
   "source": [
    "w2s, p2s = wilcoxon(df_sell_2[\"car_t_t+n\"])\n",
    "w2s, p2s, norm.ppf(p2s/2), df_sell_2[\"car_t_t+n\"].median()"
   ]
  },
  {
   "cell_type": "code",
   "execution_count": 28,
   "metadata": {},
   "outputs": [
    {
     "data": {
      "text/plain": [
       "(17825.0, 0.04364850224825746, -2.017450687133552, 0.0012145461069267458)"
      ]
     },
     "execution_count": 28,
     "metadata": {},
     "output_type": "execute_result"
    }
   ],
   "source": [
    "w3b, p3b = wilcoxon(df_buy_3[\"car_t_t+n\"])\n",
    "w3b, p3b, norm.ppf(p3b/2), df_buy_3[\"car_t_t+n\"].median()"
   ]
  },
  {
   "cell_type": "code",
   "execution_count": 29,
   "metadata": {},
   "outputs": [
    {
     "data": {
      "text/plain": [
       "(32590.0, 0.019986604617675607, -2.3265992478223545, -0.004687542248455979)"
      ]
     },
     "execution_count": 29,
     "metadata": {},
     "output_type": "execute_result"
    }
   ],
   "source": [
    "w3s, p3s = wilcoxon(df_sell_3[\"car_t_t+n\"])\n",
    "w3s, p3s, norm.ppf(p3s/2), df_sell_3[\"car_t_t+n\"].median()"
   ]
  },
  {
   "cell_type": "code",
   "execution_count": null,
   "metadata": {},
   "outputs": [],
   "source": []
  },
  {
   "cell_type": "code",
   "execution_count": null,
   "metadata": {},
   "outputs": [],
   "source": []
  },
  {
   "cell_type": "code",
   "execution_count": null,
   "metadata": {},
   "outputs": [],
   "source": []
  },
  {
   "cell_type": "code",
   "execution_count": null,
   "metadata": {},
   "outputs": [],
   "source": []
  }
 ],
 "metadata": {
  "kernelspec": {
   "display_name": "Python 3",
   "language": "python",
   "name": "python3"
  },
  "language_info": {
   "codemirror_mode": {
    "name": "ipython",
    "version": 3
   },
   "file_extension": ".py",
   "mimetype": "text/x-python",
   "name": "python",
   "nbconvert_exporter": "python",
   "pygments_lexer": "ipython3",
   "version": "3.8.5"
  }
 },
 "nbformat": 4,
 "nbformat_minor": 4
}
