{
 "cells": [
  {
   "cell_type": "code",
   "execution_count": 90,
   "metadata": {},
   "outputs": [],
   "source": [
    "import pandas as pd\n",
    "import numpy as np"
   ]
  },
  {
   "cell_type": "code",
   "execution_count": 91,
   "metadata": {},
   "outputs": [],
   "source": [
    "xls_CDNB = pd.ExcelFile(r'/Users/hongnhungvu/Desktop/Thesis_Data/CDNB_cleaned.xlsx')\n",
    "df_NB = pd.read_excel(xls_CDNB)\n",
    "xls_NLQ = pd.ExcelFile(r'/Users/hongnhungvu/Desktop/Thesis_Data/NLQ_cleaned.xlsx')\n",
    "df_NLQ = pd.read_excel(xls_NLQ)\n",
    "df_IT = df_NB.append(df_NLQ,ignore_index=True,sort=False) "
   ]
  },
  {
   "cell_type": "code",
   "execution_count": 92,
   "metadata": {},
   "outputs": [],
   "source": [
    "df_IT = df_IT.drop(df_IT[(df_IT.RegisterBuyVolume.isnull())&(df_IT.BuyVolume == 0)].index)\n",
    "df_IT = df_IT.drop(df_IT[(df_IT.RegisterSellVolume.isnull())&(df_IT.SellVolume == 0)].index)"
   ]
  },
  {
   "cell_type": "code",
   "execution_count": 93,
   "metadata": {},
   "outputs": [],
   "source": [
    "xls_1220 = pd.ExcelFile('/Users/hongnhungvu/Desktop/Thesis_Data/Data_IT/Data_Trading_2012_2020.xlsx')\n",
    "xls_11 = pd.ExcelFile('/Users/hongnhungvu/Desktop/Thesis_Data/Data_IT/Data_Trading_2011.xlsx')\n",
    "xls_21 = pd.ExcelFile('/Users/hongnhungvu/Desktop/Thesis_Data/Data_IT/Data_Trading_2021.xlsx')\n",
    "\n",
    "df1_1220 = pd.read_excel(xls_1220, '1')\n",
    "df2_1220 = pd.read_excel(xls_1220, '2')\n",
    "df3_1220 = pd.read_excel(xls_1220, '3')\n",
    "df4_11 = pd.read_excel(xls_11)\n",
    "df5_21 = pd.read_excel(xls_21)\n",
    "\n",
    "#Merge all into df_1121\n",
    "df_1121 = df1_1220.append([df2_1220,df3_1220,df4_11,df5_21],ignore_index=True,sort=False)\n",
    "df_1121_dup = df_1121.copy()\n",
    "df_1121_dup.rename(columns={\"TradingDate\":\"RegisterDate\"}, inplace=True)\n",
    "\n",
    "#Calculate daily ret of securities\n",
    "df_1121_dup['Pi_ret'] = df_1121_dup.groupby('StockCode')['CloseAdj'].pct_change(-1)"
   ]
  },
  {
   "cell_type": "code",
   "execution_count": 94,
   "metadata": {},
   "outputs": [],
   "source": [
    "#Map 'Exchange' & 'KLCPGD' values using cols\n",
    "cols =['StockCode','RegisterDate']\n",
    "df_IT['Exchange'] = df_IT.set_index(cols).index.map(df_1121_dup.set_index(cols)['Exchange'])\n",
    "df_IT['KLCPLH'] = df_IT.set_index(cols).index.map(df_1121_dup.set_index(cols)['KLCPLH'])\n",
    "\n",
    "#Calculate date difference\n",
    "from datetime import datetime\n",
    "A = [d.date() for d in df_IT['DateStartExpected']]\n",
    "B = [d.date() for d in df_IT['RegisterDate']]\n",
    "df_IT['Diff_days'] = np.busday_count(B, A)\n",
    "\n",
    "#Recalculate percentage values\n",
    "df_IT['RegisterVolumeBeforePercent'] = df_IT['RegisterVolumeBefore']/df_IT['KLCPLH']\n",
    "df_IT['RegisterVolumeAfterPercent'] = df_IT['RegisterVolumeAfter']/df_IT['KLCPLH']\n",
    "df_IT['VolumeBeforePercent'] = df_IT['VolumeBefore']/df_IT['KLCPLH']\n",
    "df_IT['VolumeAfterPercent'] = df_IT['VolumeAfter']/df_IT['KLCPLH']\n",
    "\n",
    "#Cleaning data: drop all percentage values>1\n",
    "df_IT = df_IT[(df_IT['RegisterVolumeBeforePercent'] < 1) &\n",
    "               (df_IT['RegisterVolumeAfterPercent'] < 1) &\n",
    "               (df_IT['VolumeBeforePercent'] < 1) & (df_IT['VolumeAfterPercent']<1)]"
   ]
  },
  {
   "cell_type": "code",
   "execution_count": 95,
   "metadata": {},
   "outputs": [],
   "source": [
    "#Match Securities Ret\n",
    "for x in range(-250,0):\n",
    "    df_IT['Ri_T1_' + str(x)] = df_IT.set_index(cols).index.map(df_1121_dup.set_index(cols).groupby('StockCode')['Pi_ret'].shift(x))\n",
    "\n",
    "df_IT['Ri_T1_0'] = df_IT.set_index(cols).index.map(df_1121_dup.set_index(cols)['Pi_ret'])\n",
    "\n",
    "for x in range(1,11):\n",
    "    df_IT['Ri_T1_' + str(x)] = df_IT.set_index(cols).index.map(df_1121_dup.set_index(cols).groupby('StockCode')['Pi_ret'].shift(x))"
   ]
  },
  {
   "cell_type": "code",
   "execution_count": 96,
   "metadata": {},
   "outputs": [],
   "source": [
    "df_IT.to_excel(r'/Users/hongnhungvu/Desktop/preview_all.xlsx',index=False)\n",
    "\n",
    "#Here I export the file to clear all stock prices that does not belong [t,t+n], the file above is [t,t+11) and n is in [0,10]\n",
    "#I use filter in Excel and clear manually\n",
    "#Since I don't know how to do it in Python"
   ]
  },
  {
   "cell_type": "code",
   "execution_count": 97,
   "metadata": {},
   "outputs": [],
   "source": [
    "xls_IT_1 = pd.ExcelFile(r'/Users/hongnhungvu/Desktop/preview_all.xlsx')\n",
    "df_IT_1 = pd.read_excel(xls_IT_1)\n",
    "\n",
    "#Import the file after handling in Excel"
   ]
  },
  {
   "cell_type": "code",
   "execution_count": 98,
   "metadata": {},
   "outputs": [],
   "source": [
    "#Benchmark trading data\n",
    "xls_index = pd.ExcelFile(r'/Users/hongnhungvu/Desktop/Thesis_Data/Data_IT/Data_Index_2011_2021.xlsx')\n",
    "df_index = pd.read_excel(xls_index)\n",
    "df_index.rename(columns={\"TradingDate\":\"RegisterDate\",\"IndexCode\":\"Exchange\"}, inplace=True)\n",
    "\n",
    "df_index['Exchange'] = df_index['Exchange'].replace(['VNINDEX','HNXINDEX','UPCOMINDEX'],['VNI','HNX','UPCOM'])\n",
    "\n",
    "df_VNI = df_index[df_index['Exchange']=='VNI'].copy()\n",
    "df_HNX = df_index[df_index['Exchange']=='HNX'].copy()\n",
    "df_UPCOM = df_index[df_index['Exchange']=='UPCOM'].copy()\n",
    "\n",
    "#HOSE and VNI are the same, I just use VNI here since HOSE's index is called VNI\n",
    "\n",
    "#Calculate daily ret of benchmarks\n",
    "df_VNI['Rm_ret'] = df_VNI['CloseIndex'].pct_change(-1)\n",
    "df_HNX['Rm_ret'] = df_HNX['CloseIndex'].pct_change(-1)\n",
    "df_UPCOM['Rm_ret'] = df_UPCOM['CloseIndex'].pct_change(-1)"
   ]
  },
  {
   "cell_type": "code",
   "execution_count": 99,
   "metadata": {},
   "outputs": [
    {
     "data": {
      "text/html": [
       "<div>\n",
       "<style scoped>\n",
       "    .dataframe tbody tr th:only-of-type {\n",
       "        vertical-align: middle;\n",
       "    }\n",
       "\n",
       "    .dataframe tbody tr th {\n",
       "        vertical-align: top;\n",
       "    }\n",
       "\n",
       "    .dataframe thead th {\n",
       "        text-align: right;\n",
       "    }\n",
       "</style>\n",
       "<table border=\"1\" class=\"dataframe\">\n",
       "  <thead>\n",
       "    <tr style=\"text-align: right;\">\n",
       "      <th></th>\n",
       "      <th>StockCode</th>\n",
       "      <th>RegisterDate</th>\n",
       "      <th>ResultReportDate</th>\n",
       "      <th>DateStartExpected</th>\n",
       "      <th>DateEndExpected</th>\n",
       "      <th>DateActionFrom</th>\n",
       "      <th>DateActionTo</th>\n",
       "      <th>TypeName</th>\n",
       "      <th>RegisterVolumeBefore</th>\n",
       "      <th>RegisterVolumeBeforePercent</th>\n",
       "      <th>...</th>\n",
       "      <th>Rm_T1_0</th>\n",
       "      <th>Rm_T1_1</th>\n",
       "      <th>Rm_T1_2</th>\n",
       "      <th>Rm_T1_3</th>\n",
       "      <th>Rm_T1_4</th>\n",
       "      <th>Rm_T1_5</th>\n",
       "      <th>Rm_T1_6</th>\n",
       "      <th>Rm_T1_7</th>\n",
       "      <th>Rm_T1_8</th>\n",
       "      <th>Rm_T1_9</th>\n",
       "    </tr>\n",
       "  </thead>\n",
       "  <tbody>\n",
       "    <tr>\n",
       "      <th>0</th>\n",
       "      <td>JVC</td>\n",
       "      <td>2012-01-13</td>\n",
       "      <td>2012-02-04</td>\n",
       "      <td>2012-01-19</td>\n",
       "      <td>2012-02-29</td>\n",
       "      <td>2012-01-16</td>\n",
       "      <td>2012-02-03</td>\n",
       "      <td>GD CD noi bo</td>\n",
       "      <td>13310000</td>\n",
       "      <td>0.550000</td>\n",
       "      <td>...</td>\n",
       "      <td>0.017868</td>\n",
       "      <td>0.009991</td>\n",
       "      <td>0.002766</td>\n",
       "      <td>0.010589</td>\n",
       "      <td>0.029697</td>\n",
       "      <td>-0.001151</td>\n",
       "      <td>0.032011</td>\n",
       "      <td>0.007871</td>\n",
       "      <td>0.006959</td>\n",
       "      <td>0.028003</td>\n",
       "    </tr>\n",
       "    <tr>\n",
       "      <th>1</th>\n",
       "      <td>DHA</td>\n",
       "      <td>2012-01-05</td>\n",
       "      <td>2012-02-06</td>\n",
       "      <td>2012-01-10</td>\n",
       "      <td>2012-03-09</td>\n",
       "      <td>2012-01-10</td>\n",
       "      <td>2012-02-03</td>\n",
       "      <td>GD CD noi bo</td>\n",
       "      <td>275206</td>\n",
       "      <td>0.018272</td>\n",
       "      <td>...</td>\n",
       "      <td>-0.022646</td>\n",
       "      <td>-0.012348</td>\n",
       "      <td>0.007692</td>\n",
       "      <td>0.015796</td>\n",
       "      <td>0.007978</td>\n",
       "      <td>0.001957</td>\n",
       "      <td>0.017868</td>\n",
       "      <td>0.009991</td>\n",
       "      <td>0.002766</td>\n",
       "      <td>0.010589</td>\n",
       "    </tr>\n",
       "    <tr>\n",
       "      <th>2</th>\n",
       "      <td>REE</td>\n",
       "      <td>2012-01-04</td>\n",
       "      <td>2012-02-13</td>\n",
       "      <td>2012-01-09</td>\n",
       "      <td>2012-03-09</td>\n",
       "      <td>2012-01-09</td>\n",
       "      <td>2012-02-13</td>\n",
       "      <td>GD CD noi bo</td>\n",
       "      <td>7742346</td>\n",
       "      <td>0.032308</td>\n",
       "      <td>...</td>\n",
       "      <td>-0.003314</td>\n",
       "      <td>-0.022646</td>\n",
       "      <td>-0.012348</td>\n",
       "      <td>0.007692</td>\n",
       "      <td>0.015796</td>\n",
       "      <td>0.007978</td>\n",
       "      <td>0.001957</td>\n",
       "      <td>0.017868</td>\n",
       "      <td>0.009991</td>\n",
       "      <td>0.002766</td>\n",
       "    </tr>\n",
       "    <tr>\n",
       "      <th>3</th>\n",
       "      <td>MPC</td>\n",
       "      <td>2012-02-09</td>\n",
       "      <td>2012-02-16</td>\n",
       "      <td>2012-02-16</td>\n",
       "      <td>2012-03-16</td>\n",
       "      <td>2012-02-16</td>\n",
       "      <td>2012-02-16</td>\n",
       "      <td>GD CD noi bo</td>\n",
       "      <td>7800</td>\n",
       "      <td>0.000111</td>\n",
       "      <td>...</td>\n",
       "      <td>0.004542</td>\n",
       "      <td>-0.015484</td>\n",
       "      <td>-0.023406</td>\n",
       "      <td>0.011933</td>\n",
       "      <td>-0.007120</td>\n",
       "      <td>-0.002265</td>\n",
       "      <td>0.017124</td>\n",
       "      <td>0.026482</td>\n",
       "      <td>-0.007416</td>\n",
       "      <td>0.018252</td>\n",
       "    </tr>\n",
       "    <tr>\n",
       "      <th>4</th>\n",
       "      <td>MPC</td>\n",
       "      <td>2012-02-10</td>\n",
       "      <td>2012-02-16</td>\n",
       "      <td>2012-02-16</td>\n",
       "      <td>2012-03-16</td>\n",
       "      <td>2012-02-16</td>\n",
       "      <td>2012-02-16</td>\n",
       "      <td>GD CD noi bo</td>\n",
       "      <td>17166</td>\n",
       "      <td>0.000245</td>\n",
       "      <td>...</td>\n",
       "      <td>-0.015484</td>\n",
       "      <td>-0.023406</td>\n",
       "      <td>0.011933</td>\n",
       "      <td>-0.007120</td>\n",
       "      <td>-0.002265</td>\n",
       "      <td>0.017124</td>\n",
       "      <td>0.026482</td>\n",
       "      <td>-0.007416</td>\n",
       "      <td>0.018252</td>\n",
       "      <td>0.013097</td>\n",
       "    </tr>\n",
       "    <tr>\n",
       "      <th>...</th>\n",
       "      <td>...</td>\n",
       "      <td>...</td>\n",
       "      <td>...</td>\n",
       "      <td>...</td>\n",
       "      <td>...</td>\n",
       "      <td>...</td>\n",
       "      <td>...</td>\n",
       "      <td>...</td>\n",
       "      <td>...</td>\n",
       "      <td>...</td>\n",
       "      <td>...</td>\n",
       "      <td>...</td>\n",
       "      <td>...</td>\n",
       "      <td>...</td>\n",
       "      <td>...</td>\n",
       "      <td>...</td>\n",
       "      <td>...</td>\n",
       "      <td>...</td>\n",
       "      <td>...</td>\n",
       "      <td>...</td>\n",
       "      <td>...</td>\n",
       "    </tr>\n",
       "    <tr>\n",
       "      <th>11903</th>\n",
       "      <td>PVP</td>\n",
       "      <td>2020-11-18</td>\n",
       "      <td>2020-12-23</td>\n",
       "      <td>2020-11-23</td>\n",
       "      <td>2020-12-22</td>\n",
       "      <td>2020-11-23</td>\n",
       "      <td>2020-12-22</td>\n",
       "      <td>GD cua nguoi lien quan</td>\n",
       "      <td>9543747</td>\n",
       "      <td>0.101233</td>\n",
       "      <td>...</td>\n",
       "      <td>-0.004082</td>\n",
       "      <td>0.002580</td>\n",
       "      <td>0.004693</td>\n",
       "      <td>0.004973</td>\n",
       "      <td>0.001050</td>\n",
       "      <td>-0.002397</td>\n",
       "      <td>-0.001502</td>\n",
       "      <td>0.004361</td>\n",
       "      <td>0.001647</td>\n",
       "      <td>0.013602</td>\n",
       "    </tr>\n",
       "    <tr>\n",
       "      <th>11906</th>\n",
       "      <td>TR1</td>\n",
       "      <td>2020-11-19</td>\n",
       "      <td>2020-12-23</td>\n",
       "      <td>2020-11-23</td>\n",
       "      <td>2020-12-17</td>\n",
       "      <td>2020-11-23</td>\n",
       "      <td>2020-12-17</td>\n",
       "      <td>GD cua nguoi lien quan</td>\n",
       "      <td>268355</td>\n",
       "      <td>0.058433</td>\n",
       "      <td>...</td>\n",
       "      <td>0.002580</td>\n",
       "      <td>0.004693</td>\n",
       "      <td>0.004973</td>\n",
       "      <td>0.001050</td>\n",
       "      <td>-0.002397</td>\n",
       "      <td>-0.001502</td>\n",
       "      <td>0.004361</td>\n",
       "      <td>0.001647</td>\n",
       "      <td>0.013602</td>\n",
       "      <td>0.011650</td>\n",
       "    </tr>\n",
       "    <tr>\n",
       "      <th>11918</th>\n",
       "      <td>VRG</td>\n",
       "      <td>2020-12-04</td>\n",
       "      <td>2020-12-25</td>\n",
       "      <td>2020-12-07</td>\n",
       "      <td>2021-01-05</td>\n",
       "      <td>2020-12-07</td>\n",
       "      <td>2020-12-23</td>\n",
       "      <td>GD cua nguoi lien quan</td>\n",
       "      <td>1414000</td>\n",
       "      <td>0.054605</td>\n",
       "      <td>...</td>\n",
       "      <td>-0.005940</td>\n",
       "      <td>0.001312</td>\n",
       "      <td>0.003493</td>\n",
       "      <td>0.004642</td>\n",
       "      <td>-0.007941</td>\n",
       "      <td>0.000146</td>\n",
       "      <td>0.009313</td>\n",
       "      <td>0.003749</td>\n",
       "      <td>0.009049</td>\n",
       "      <td>0.000569</td>\n",
       "    </tr>\n",
       "    <tr>\n",
       "      <th>11920</th>\n",
       "      <td>CC4</td>\n",
       "      <td>2020-11-13</td>\n",
       "      <td>2020-12-28</td>\n",
       "      <td>2020-11-17</td>\n",
       "      <td>2020-12-15</td>\n",
       "      <td>2020-11-16</td>\n",
       "      <td>2020-12-15</td>\n",
       "      <td>GD cua nguoi lien quan</td>\n",
       "      <td>2880000</td>\n",
       "      <td>0.180000</td>\n",
       "      <td>...</td>\n",
       "      <td>0.002790</td>\n",
       "      <td>0.002318</td>\n",
       "      <td>0.020046</td>\n",
       "      <td>-0.004082</td>\n",
       "      <td>0.002580</td>\n",
       "      <td>0.004693</td>\n",
       "      <td>0.004973</td>\n",
       "      <td>0.001050</td>\n",
       "      <td>-0.002397</td>\n",
       "      <td>-0.001502</td>\n",
       "    </tr>\n",
       "    <tr>\n",
       "      <th>11930</th>\n",
       "      <td>LMI</td>\n",
       "      <td>2020-12-17</td>\n",
       "      <td>2020-12-29</td>\n",
       "      <td>2020-12-21</td>\n",
       "      <td>2020-12-30</td>\n",
       "      <td>2020-12-22</td>\n",
       "      <td>2020-12-22</td>\n",
       "      <td>GD cua nguoi lien quan</td>\n",
       "      <td>5000</td>\n",
       "      <td>0.000909</td>\n",
       "      <td>...</td>\n",
       "      <td>0.000569</td>\n",
       "      <td>0.009390</td>\n",
       "      <td>0.009725</td>\n",
       "      <td>0.016471</td>\n",
       "      <td>0.010574</td>\n",
       "      <td>-0.007066</td>\n",
       "      <td>-0.001779</td>\n",
       "      <td>0.002194</td>\n",
       "      <td>0.009986</td>\n",
       "      <td>-0.005689</td>\n",
       "    </tr>\n",
       "  </tbody>\n",
       "</table>\n",
       "<p>11937 rows × 552 columns</p>\n",
       "</div>"
      ],
      "text/plain": [
       "      StockCode RegisterDate ResultReportDate DateStartExpected  \\\n",
       "0           JVC   2012-01-13       2012-02-04        2012-01-19   \n",
       "1           DHA   2012-01-05       2012-02-06        2012-01-10   \n",
       "2           REE   2012-01-04       2012-02-13        2012-01-09   \n",
       "3           MPC   2012-02-09       2012-02-16        2012-02-16   \n",
       "4           MPC   2012-02-10       2012-02-16        2012-02-16   \n",
       "...         ...          ...              ...               ...   \n",
       "11903       PVP   2020-11-18       2020-12-23        2020-11-23   \n",
       "11906       TR1   2020-11-19       2020-12-23        2020-11-23   \n",
       "11918       VRG   2020-12-04       2020-12-25        2020-12-07   \n",
       "11920       CC4   2020-11-13       2020-12-28        2020-11-17   \n",
       "11930       LMI   2020-12-17       2020-12-29        2020-12-21   \n",
       "\n",
       "      DateEndExpected DateActionFrom DateActionTo                TypeName  \\\n",
       "0          2012-02-29     2012-01-16   2012-02-03            GD CD noi bo   \n",
       "1          2012-03-09     2012-01-10   2012-02-03            GD CD noi bo   \n",
       "2          2012-03-09     2012-01-09   2012-02-13            GD CD noi bo   \n",
       "3          2012-03-16     2012-02-16   2012-02-16            GD CD noi bo   \n",
       "4          2012-03-16     2012-02-16   2012-02-16            GD CD noi bo   \n",
       "...               ...            ...          ...                     ...   \n",
       "11903      2020-12-22     2020-11-23   2020-12-22  GD cua nguoi lien quan   \n",
       "11906      2020-12-17     2020-11-23   2020-12-17  GD cua nguoi lien quan   \n",
       "11918      2021-01-05     2020-12-07   2020-12-23  GD cua nguoi lien quan   \n",
       "11920      2020-12-15     2020-11-16   2020-12-15  GD cua nguoi lien quan   \n",
       "11930      2020-12-30     2020-12-22   2020-12-22  GD cua nguoi lien quan   \n",
       "\n",
       "       RegisterVolumeBefore  RegisterVolumeBeforePercent  ...   Rm_T1_0  \\\n",
       "0                  13310000                     0.550000  ...  0.017868   \n",
       "1                    275206                     0.018272  ... -0.022646   \n",
       "2                   7742346                     0.032308  ... -0.003314   \n",
       "3                      7800                     0.000111  ...  0.004542   \n",
       "4                     17166                     0.000245  ... -0.015484   \n",
       "...                     ...                          ...  ...       ...   \n",
       "11903               9543747                     0.101233  ... -0.004082   \n",
       "11906                268355                     0.058433  ...  0.002580   \n",
       "11918               1414000                     0.054605  ... -0.005940   \n",
       "11920               2880000                     0.180000  ...  0.002790   \n",
       "11930                  5000                     0.000909  ...  0.000569   \n",
       "\n",
       "        Rm_T1_1   Rm_T1_2   Rm_T1_3   Rm_T1_4   Rm_T1_5   Rm_T1_6   Rm_T1_7  \\\n",
       "0      0.009991  0.002766  0.010589  0.029697 -0.001151  0.032011  0.007871   \n",
       "1     -0.012348  0.007692  0.015796  0.007978  0.001957  0.017868  0.009991   \n",
       "2     -0.022646 -0.012348  0.007692  0.015796  0.007978  0.001957  0.017868   \n",
       "3     -0.015484 -0.023406  0.011933 -0.007120 -0.002265  0.017124  0.026482   \n",
       "4     -0.023406  0.011933 -0.007120 -0.002265  0.017124  0.026482 -0.007416   \n",
       "...         ...       ...       ...       ...       ...       ...       ...   \n",
       "11903  0.002580  0.004693  0.004973  0.001050 -0.002397 -0.001502  0.004361   \n",
       "11906  0.004693  0.004973  0.001050 -0.002397 -0.001502  0.004361  0.001647   \n",
       "11918  0.001312  0.003493  0.004642 -0.007941  0.000146  0.009313  0.003749   \n",
       "11920  0.002318  0.020046 -0.004082  0.002580  0.004693  0.004973  0.001050   \n",
       "11930  0.009390  0.009725  0.016471  0.010574 -0.007066 -0.001779  0.002194   \n",
       "\n",
       "        Rm_T1_8   Rm_T1_9  \n",
       "0      0.006959  0.028003  \n",
       "1      0.002766  0.010589  \n",
       "2      0.009991  0.002766  \n",
       "3     -0.007416  0.018252  \n",
       "4      0.018252  0.013097  \n",
       "...         ...       ...  \n",
       "11903  0.001647  0.013602  \n",
       "11906  0.013602  0.011650  \n",
       "11918  0.009049  0.000569  \n",
       "11920 -0.002397 -0.001502  \n",
       "11930  0.009986 -0.005689  \n",
       "\n",
       "[11937 rows x 552 columns]"
      ]
     },
     "execution_count": 99,
     "metadata": {},
     "output_type": "execute_result"
    }
   ],
   "source": [
    "#Match Benchmark Ret HNX\n",
    "df_IT_HNX = df_IT_1[df_IT_1['Exchange']=='HNX'].copy()\n",
    "\n",
    "for x in range(-250,0):\n",
    "    df_IT_HNX['Rm_T1_' + str(x)] = df_IT_HNX.set_index('RegisterDate').index.map(df_HNX.set_index('RegisterDate')['Rm_ret'].shift(x))\n",
    "\n",
    "df_IT_HNX['Rm_T1_0'] = df_IT_HNX.set_index('RegisterDate').index.map(df_HNX.set_index('RegisterDate')['Rm_ret'])\n",
    "\n",
    "for x in range(1,10):\n",
    "    df_IT_HNX['Rm_T1_' + str(x)] = df_IT_HNX.set_index('RegisterDate').index.map(df_HNX.set_index('RegisterDate')['Rm_ret'].shift(x))\n",
    "\n",
    "    \n",
    "#Match Benchmark Ret VNI\n",
    "df_IT_VNI = df_IT_1[df_IT_1['Exchange']=='HOSE'].copy()\n",
    "\n",
    "for x in range(-250,0):\n",
    "    df_IT_VNI['Rm_T1_' + str(x)] = df_IT_VNI.set_index('RegisterDate').index.map(df_VNI.set_index('RegisterDate')['Rm_ret'].shift(x))\n",
    "\n",
    "df_IT_VNI['Rm_T1_0'] = df_IT_VNI.set_index('RegisterDate').index.map(df_VNI.set_index('RegisterDate')['Rm_ret'])\n",
    "\n",
    "for x in range(1,10):\n",
    "    df_IT_VNI['Rm_T1_' + str(x)] = df_IT_VNI.set_index('RegisterDate').index.map(df_VNI.set_index('RegisterDate')['Rm_ret'].shift(x))\n",
    "   \n",
    "\n",
    "#Match Benchmark Ret UPCOM\n",
    "df_IT_UPCOM = df_IT_1[df_IT_1['Exchange']=='UPCOM'].copy()\n",
    "\n",
    "for x in range(-250,0):\n",
    "    df_IT_UPCOM['Rm_T1_' + str(x)] = df_IT_UPCOM.set_index('RegisterDate').index.map(df_UPCOM.set_index('RegisterDate')['Rm_ret'].shift(x))\n",
    "\n",
    "df_IT_UPCOM['Rm_T1_0'] = df_IT_UPCOM.set_index('RegisterDate').index.map(df_UPCOM.set_index('RegisterDate')['Rm_ret'])\n",
    "\n",
    "for x in range(1,10):\n",
    "    df_IT_UPCOM['Rm_T1_' + str(x)] = df_IT_UPCOM.set_index('RegisterDate').index.map(df_UPCOM.set_index('RegisterDate')['Rm_ret'].shift(x))\n",
    "\n",
    "merged_df = pd.concat([df_IT_VNI, df_IT_HNX, df_IT_UPCOM])\n",
    "merged_df"
   ]
  },
  {
   "cell_type": "code",
   "execution_count": 100,
   "metadata": {},
   "outputs": [],
   "source": [
    "import statsmodels.api as sm\n",
    "\n",
    "#Regress Ri on Rm\n",
    "\n",
    "def regress(data):\n",
    "    result_all=[]\n",
    "    for i in range(len(data)):\n",
    "        Y = list(data.iloc[i][32:253])\n",
    "        X = list(data.iloc[i][292:513])\n",
    "        X = sm.add_constant(X)\n",
    "        result = sm.OLS(Y,X,missing='drop').fit()\n",
    "        result_all.append(result.params)\n",
    "    return result_all  \n",
    "\n",
    "#Why slice [32:253] and [292:513]\n",
    "#merged_df.columns.get_indexer(['Ri_T1_-250', 'Ri_T1_-30','Rm_T1_-250', 'Rm_T1_-30'])\n",
    "#array([ 32, 252, 292, 512])\n",
    "\n",
    "#Run for HOSE first\n",
    "res_VNI = regress(df_IT_VNI)"
   ]
  },
  {
   "cell_type": "code",
   "execution_count": 101,
   "metadata": {},
   "outputs": [],
   "source": [
    "#Insert alphas & betas into df_IT_VNI\n",
    "df_IT_VNI['alpha'] = np.array(res_VNI)[:,0]\n",
    "df_IT_VNI['beta'] = np.array(res_VNI)[:,1]"
   ]
  },
  {
   "cell_type": "code",
   "execution_count": 102,
   "metadata": {},
   "outputs": [],
   "source": [
    "#Calculate sd of abnormal return of each stock in each event in period (-250,-30)\n",
    "\n",
    "def sd_ar(data):\n",
    "    sd_ar_all=[]\n",
    "    for i in range(len(data)):\n",
    "        R_i = list(data.iloc[i][32:253])\n",
    "        R_m = list(data.iloc[i][292:513])\n",
    "        ar = [s - data.iloc[i]['alpha'] - m*data.iloc[i]['beta'] for s,m in zip(R_i,R_m)]\n",
    "        sd_ar_all.append([np.nanstd(ar)])\n",
    "    return sd_ar_all\n",
    "\n",
    "sd_VNI = sd_ar(df_IT_VNI)"
   ]
  },
  {
   "cell_type": "code",
   "execution_count": 103,
   "metadata": {},
   "outputs": [],
   "source": [
    "#Insert sd of abnormal return into df_IT_VNI\n",
    "df_IT_VNI['sd_ar'] = np.array(sd_VNI)[:,0]"
   ]
  },
  {
   "cell_type": "code",
   "execution_count": 104,
   "metadata": {},
   "outputs": [],
   "source": [
    "#Calculate cumulative abnormal return (-30,-1)\n",
    "\n",
    "def cal_car_before(data):\n",
    "    car_all=[]\n",
    "    for i in range(len(data)):\n",
    "        r_i = list(data.iloc[i][252:282])\n",
    "        r_m = list(data.iloc[i][512:542])\n",
    "        car = np.nansum([s - data.iloc[i]['alpha'] - m*data.iloc[i]['beta'] for s,m in zip(r_i,r_m)])\n",
    "        car_all.append(car)\n",
    "    return car_all\n",
    "\n",
    "#Why slice [252:282] and [512:542]\n",
    "#df_IT_VNI.columns.get_indexer(['Ri_T1_-30', 'Ri_T1_-1','Rm_T1_-30', 'Rm_T1_-1'])\n",
    "#array([252, 281, 512, 541])\n",
    "\n",
    "cal_before_VNI = cal_car_before(df_IT_VNI)"
   ]
  },
  {
   "cell_type": "code",
   "execution_count": 105,
   "metadata": {},
   "outputs": [],
   "source": [
    "#Insert car before into df_IT_VNI\n",
    "df_IT_VNI['car_before'] = np.array(cal_before_VNI)"
   ]
  },
  {
   "cell_type": "code",
   "execution_count": 106,
   "metadata": {},
   "outputs": [],
   "source": [
    "df_IT_VNI['ar_T0'] = df_IT_VNI['Ri_T1_0'] - (df_IT_VNI['Rm_T1_0']*df_IT_VNI['beta']+df_IT_VNI['alpha'])\n",
    "\n",
    "def cal_car_after(data):\n",
    "    car_all=[]\n",
    "    for i in range(len(data)):\n",
    "        r_i = list(data.iloc[i][283:292])\n",
    "        r_m = list(data.iloc[i][543:552])\n",
    "        car = np.nansum([s - data.iloc[i]['alpha'] - m*data.iloc[i]['beta'] for s,m in zip(r_i,r_m)])\n",
    "        car_all.append(car)\n",
    "    return car_all\n",
    "\n",
    "#Why slice [283:292] and [543:552]\n",
    "#df_IT_VNI.columns.get_indexer(['Ri_T1_1', 'Ri_T1_9','Rm_T1_1', 'Rm_T1_9'])\n",
    "#array([283, 291, 543, 551])\n",
    "\n",
    "cal_after = cal_car_after(df_IT_VNI)"
   ]
  },
  {
   "cell_type": "code",
   "execution_count": 107,
   "metadata": {},
   "outputs": [],
   "source": [
    "#Insert car after into df_IT_VNI\n",
    "df_IT_VNI['car_after'] = np.array(cal_after)\n",
    "\n",
    "df_IT_VNI['car_t_t+n'] = df_IT_VNI['car_after'] + df_IT_VNI['ar_T0']"
   ]
  },
  {
   "cell_type": "code",
   "execution_count": 108,
   "metadata": {},
   "outputs": [
    {
     "data": {
      "text/html": [
       "<div>\n",
       "<style scoped>\n",
       "    .dataframe tbody tr th:only-of-type {\n",
       "        vertical-align: middle;\n",
       "    }\n",
       "\n",
       "    .dataframe tbody tr th {\n",
       "        vertical-align: top;\n",
       "    }\n",
       "\n",
       "    .dataframe thead th {\n",
       "        text-align: right;\n",
       "    }\n",
       "</style>\n",
       "<table border=\"1\" class=\"dataframe\">\n",
       "  <thead>\n",
       "    <tr style=\"text-align: right;\">\n",
       "      <th></th>\n",
       "      <th>StockCode</th>\n",
       "      <th>RegisterDate</th>\n",
       "      <th>ResultReportDate</th>\n",
       "      <th>DateStartExpected</th>\n",
       "      <th>DateEndExpected</th>\n",
       "      <th>DateActionFrom</th>\n",
       "      <th>DateActionTo</th>\n",
       "      <th>TypeName</th>\n",
       "      <th>RegisterVolumeBefore</th>\n",
       "      <th>RegisterVolumeBeforePercent</th>\n",
       "      <th>...</th>\n",
       "      <th>beta</th>\n",
       "      <th>sd_ar</th>\n",
       "      <th>car_before</th>\n",
       "      <th>ar_T0</th>\n",
       "      <th>car_after</th>\n",
       "      <th>car_t_t+n</th>\n",
       "      <th>t-stat_before</th>\n",
       "      <th>t-stat_eventdate</th>\n",
       "      <th>t-stat_after</th>\n",
       "      <th>t-stat_t_t+n</th>\n",
       "    </tr>\n",
       "  </thead>\n",
       "  <tbody>\n",
       "    <tr>\n",
       "      <th>0</th>\n",
       "      <td>JVC</td>\n",
       "      <td>2012-01-13</td>\n",
       "      <td>2012-02-04</td>\n",
       "      <td>2012-01-19</td>\n",
       "      <td>2012-02-29</td>\n",
       "      <td>2012-01-16</td>\n",
       "      <td>2012-02-03</td>\n",
       "      <td>GD CD noi bo</td>\n",
       "      <td>13310000</td>\n",
       "      <td>5.500000e-01</td>\n",
       "      <td>...</td>\n",
       "      <td>1.272007</td>\n",
       "      <td>0.149195</td>\n",
       "      <td>0.262166</td>\n",
       "      <td>-0.010915</td>\n",
       "      <td>-0.198114</td>\n",
       "      <td>-0.209028</td>\n",
       "      <td>0.320819</td>\n",
       "      <td>-0.073159</td>\n",
       "      <td>-0.766654</td>\n",
       "      <td>-0.700521</td>\n",
       "    </tr>\n",
       "    <tr>\n",
       "      <th>1</th>\n",
       "      <td>DHA</td>\n",
       "      <td>2012-01-05</td>\n",
       "      <td>2012-02-06</td>\n",
       "      <td>2012-01-10</td>\n",
       "      <td>2012-03-09</td>\n",
       "      <td>2012-01-10</td>\n",
       "      <td>2012-02-03</td>\n",
       "      <td>GD CD noi bo</td>\n",
       "      <td>275206</td>\n",
       "      <td>1.827250e-02</td>\n",
       "      <td>...</td>\n",
       "      <td>0.873415</td>\n",
       "      <td>0.018895</td>\n",
       "      <td>0.135031</td>\n",
       "      <td>0.021753</td>\n",
       "      <td>-0.003751</td>\n",
       "      <td>0.018003</td>\n",
       "      <td>1.304754</td>\n",
       "      <td>1.151278</td>\n",
       "      <td>-0.140361</td>\n",
       "      <td>0.550086</td>\n",
       "    </tr>\n",
       "    <tr>\n",
       "      <th>2</th>\n",
       "      <td>REE</td>\n",
       "      <td>2012-01-04</td>\n",
       "      <td>2012-02-13</td>\n",
       "      <td>2012-01-09</td>\n",
       "      <td>2012-03-09</td>\n",
       "      <td>2012-01-09</td>\n",
       "      <td>2012-02-13</td>\n",
       "      <td>GD CD noi bo</td>\n",
       "      <td>7742346</td>\n",
       "      <td>3.230815e-02</td>\n",
       "      <td>...</td>\n",
       "      <td>1.048919</td>\n",
       "      <td>0.015433</td>\n",
       "      <td>0.104821</td>\n",
       "      <td>0.030377</td>\n",
       "      <td>0.020168</td>\n",
       "      <td>0.050545</td>\n",
       "      <td>1.240065</td>\n",
       "      <td>1.968318</td>\n",
       "      <td>0.924085</td>\n",
       "      <td>1.890921</td>\n",
       "    </tr>\n",
       "    <tr>\n",
       "      <th>3</th>\n",
       "      <td>MPC</td>\n",
       "      <td>2012-02-09</td>\n",
       "      <td>2012-02-16</td>\n",
       "      <td>2012-02-16</td>\n",
       "      <td>2012-03-16</td>\n",
       "      <td>2012-02-16</td>\n",
       "      <td>2012-02-16</td>\n",
       "      <td>GD CD noi bo</td>\n",
       "      <td>7800</td>\n",
       "      <td>1.114286e-04</td>\n",
       "      <td>...</td>\n",
       "      <td>0.833024</td>\n",
       "      <td>0.022558</td>\n",
       "      <td>0.014642</td>\n",
       "      <td>-0.018838</td>\n",
       "      <td>-0.068183</td>\n",
       "      <td>-0.087020</td>\n",
       "      <td>0.118507</td>\n",
       "      <td>-0.835064</td>\n",
       "      <td>-1.511242</td>\n",
       "      <td>-1.725147</td>\n",
       "    </tr>\n",
       "    <tr>\n",
       "      <th>4</th>\n",
       "      <td>MPC</td>\n",
       "      <td>2012-02-10</td>\n",
       "      <td>2012-02-16</td>\n",
       "      <td>2012-02-16</td>\n",
       "      <td>2012-03-16</td>\n",
       "      <td>2012-02-16</td>\n",
       "      <td>2012-02-16</td>\n",
       "      <td>GD CD noi bo</td>\n",
       "      <td>17166</td>\n",
       "      <td>2.452286e-04</td>\n",
       "      <td>...</td>\n",
       "      <td>0.832069</td>\n",
       "      <td>0.022551</td>\n",
       "      <td>0.035153</td>\n",
       "      <td>0.002964</td>\n",
       "      <td>-0.071018</td>\n",
       "      <td>-0.068054</td>\n",
       "      <td>0.284593</td>\n",
       "      <td>0.131441</td>\n",
       "      <td>-1.818156</td>\n",
       "      <td>-1.508848</td>\n",
       "    </tr>\n",
       "    <tr>\n",
       "      <th>...</th>\n",
       "      <td>...</td>\n",
       "      <td>...</td>\n",
       "      <td>...</td>\n",
       "      <td>...</td>\n",
       "      <td>...</td>\n",
       "      <td>...</td>\n",
       "      <td>...</td>\n",
       "      <td>...</td>\n",
       "      <td>...</td>\n",
       "      <td>...</td>\n",
       "      <td>...</td>\n",
       "      <td>...</td>\n",
       "      <td>...</td>\n",
       "      <td>...</td>\n",
       "      <td>...</td>\n",
       "      <td>...</td>\n",
       "      <td>...</td>\n",
       "      <td>...</td>\n",
       "      <td>...</td>\n",
       "      <td>...</td>\n",
       "      <td>...</td>\n",
       "    </tr>\n",
       "    <tr>\n",
       "      <th>11931</th>\n",
       "      <td>VDP</td>\n",
       "      <td>2020-12-23</td>\n",
       "      <td>2020-12-29</td>\n",
       "      <td>2020-12-28</td>\n",
       "      <td>2020-12-29</td>\n",
       "      <td>2020-12-28</td>\n",
       "      <td>2020-12-28</td>\n",
       "      <td>GD cua nguoi lien quan</td>\n",
       "      <td>1826264</td>\n",
       "      <td>1.137894e-01</td>\n",
       "      <td>...</td>\n",
       "      <td>0.388968</td>\n",
       "      <td>0.026840</td>\n",
       "      <td>-0.107862</td>\n",
       "      <td>0.000672</td>\n",
       "      <td>-0.003968</td>\n",
       "      <td>-0.003295</td>\n",
       "      <td>-0.733722</td>\n",
       "      <td>0.025051</td>\n",
       "      <td>-0.104526</td>\n",
       "      <td>-0.070882</td>\n",
       "    </tr>\n",
       "    <tr>\n",
       "      <th>11932</th>\n",
       "      <td>PPC</td>\n",
       "      <td>2020-12-17</td>\n",
       "      <td>2020-12-30</td>\n",
       "      <td>2020-12-22</td>\n",
       "      <td>2021-01-19</td>\n",
       "      <td>2020-12-22</td>\n",
       "      <td>2020-12-25</td>\n",
       "      <td>GD cua nguoi lien quan</td>\n",
       "      <td>77396260</td>\n",
       "      <td>2.414008e-01</td>\n",
       "      <td>...</td>\n",
       "      <td>0.786193</td>\n",
       "      <td>0.013602</td>\n",
       "      <td>-0.018956</td>\n",
       "      <td>0.009613</td>\n",
       "      <td>-0.012425</td>\n",
       "      <td>-0.002812</td>\n",
       "      <td>-0.254429</td>\n",
       "      <td>0.706743</td>\n",
       "      <td>-0.645928</td>\n",
       "      <td>-0.119360</td>\n",
       "    </tr>\n",
       "    <tr>\n",
       "      <th>11933</th>\n",
       "      <td>PDR</td>\n",
       "      <td>2020-12-10</td>\n",
       "      <td>2020-12-30</td>\n",
       "      <td>2020-12-14</td>\n",
       "      <td>2021-01-12</td>\n",
       "      <td>2020-12-14</td>\n",
       "      <td>2020-12-28</td>\n",
       "      <td>GD cua nguoi lien quan</td>\n",
       "      <td>92106</td>\n",
       "      <td>2.324912e-04</td>\n",
       "      <td>...</td>\n",
       "      <td>0.220897</td>\n",
       "      <td>0.019955</td>\n",
       "      <td>-0.002598</td>\n",
       "      <td>-0.017152</td>\n",
       "      <td>-0.006070</td>\n",
       "      <td>-0.023222</td>\n",
       "      <td>-0.023766</td>\n",
       "      <td>-0.859573</td>\n",
       "      <td>-0.304171</td>\n",
       "      <td>-0.822891</td>\n",
       "    </tr>\n",
       "    <tr>\n",
       "      <th>11934</th>\n",
       "      <td>VCB</td>\n",
       "      <td>2020-12-15</td>\n",
       "      <td>2020-12-30</td>\n",
       "      <td>2020-12-18</td>\n",
       "      <td>2021-01-15</td>\n",
       "      <td>2020-12-28</td>\n",
       "      <td>2020-12-29</td>\n",
       "      <td>GD cua nguoi lien quan</td>\n",
       "      <td>2523</td>\n",
       "      <td>6.802597e-07</td>\n",
       "      <td>...</td>\n",
       "      <td>1.026902</td>\n",
       "      <td>0.011936</td>\n",
       "      <td>0.014556</td>\n",
       "      <td>-0.012699</td>\n",
       "      <td>-0.014702</td>\n",
       "      <td>-0.027401</td>\n",
       "      <td>0.222664</td>\n",
       "      <td>-1.063933</td>\n",
       "      <td>-0.871009</td>\n",
       "      <td>-1.325438</td>\n",
       "    </tr>\n",
       "    <tr>\n",
       "      <th>11936</th>\n",
       "      <td>NAF</td>\n",
       "      <td>2020-12-10</td>\n",
       "      <td>2020-12-31</td>\n",
       "      <td>2020-12-16</td>\n",
       "      <td>2021-01-15</td>\n",
       "      <td>2020-12-16</td>\n",
       "      <td>2020-12-31</td>\n",
       "      <td>GD cua nguoi lien quan</td>\n",
       "      <td>44210</td>\n",
       "      <td>9.294104e-04</td>\n",
       "      <td>...</td>\n",
       "      <td>0.327009</td>\n",
       "      <td>0.017385</td>\n",
       "      <td>-0.126074</td>\n",
       "      <td>0.044634</td>\n",
       "      <td>0.019826</td>\n",
       "      <td>0.064460</td>\n",
       "      <td>-1.324011</td>\n",
       "      <td>2.567426</td>\n",
       "      <td>0.658411</td>\n",
       "      <td>1.853913</td>\n",
       "    </tr>\n",
       "  </tbody>\n",
       "</table>\n",
       "<p>7569 rows × 563 columns</p>\n",
       "</div>"
      ],
      "text/plain": [
       "      StockCode RegisterDate ResultReportDate DateStartExpected  \\\n",
       "0           JVC   2012-01-13       2012-02-04        2012-01-19   \n",
       "1           DHA   2012-01-05       2012-02-06        2012-01-10   \n",
       "2           REE   2012-01-04       2012-02-13        2012-01-09   \n",
       "3           MPC   2012-02-09       2012-02-16        2012-02-16   \n",
       "4           MPC   2012-02-10       2012-02-16        2012-02-16   \n",
       "...         ...          ...              ...               ...   \n",
       "11931       VDP   2020-12-23       2020-12-29        2020-12-28   \n",
       "11932       PPC   2020-12-17       2020-12-30        2020-12-22   \n",
       "11933       PDR   2020-12-10       2020-12-30        2020-12-14   \n",
       "11934       VCB   2020-12-15       2020-12-30        2020-12-18   \n",
       "11936       NAF   2020-12-10       2020-12-31        2020-12-16   \n",
       "\n",
       "      DateEndExpected DateActionFrom DateActionTo                TypeName  \\\n",
       "0          2012-02-29     2012-01-16   2012-02-03            GD CD noi bo   \n",
       "1          2012-03-09     2012-01-10   2012-02-03            GD CD noi bo   \n",
       "2          2012-03-09     2012-01-09   2012-02-13            GD CD noi bo   \n",
       "3          2012-03-16     2012-02-16   2012-02-16            GD CD noi bo   \n",
       "4          2012-03-16     2012-02-16   2012-02-16            GD CD noi bo   \n",
       "...               ...            ...          ...                     ...   \n",
       "11931      2020-12-29     2020-12-28   2020-12-28  GD cua nguoi lien quan   \n",
       "11932      2021-01-19     2020-12-22   2020-12-25  GD cua nguoi lien quan   \n",
       "11933      2021-01-12     2020-12-14   2020-12-28  GD cua nguoi lien quan   \n",
       "11934      2021-01-15     2020-12-28   2020-12-29  GD cua nguoi lien quan   \n",
       "11936      2021-01-15     2020-12-16   2020-12-31  GD cua nguoi lien quan   \n",
       "\n",
       "       RegisterVolumeBefore  RegisterVolumeBeforePercent  ...      beta  \\\n",
       "0                  13310000                 5.500000e-01  ...  1.272007   \n",
       "1                    275206                 1.827250e-02  ...  0.873415   \n",
       "2                   7742346                 3.230815e-02  ...  1.048919   \n",
       "3                      7800                 1.114286e-04  ...  0.833024   \n",
       "4                     17166                 2.452286e-04  ...  0.832069   \n",
       "...                     ...                          ...  ...       ...   \n",
       "11931               1826264                 1.137894e-01  ...  0.388968   \n",
       "11932              77396260                 2.414008e-01  ...  0.786193   \n",
       "11933                 92106                 2.324912e-04  ...  0.220897   \n",
       "11934                  2523                 6.802597e-07  ...  1.026902   \n",
       "11936                 44210                 9.294104e-04  ...  0.327009   \n",
       "\n",
       "          sd_ar  car_before     ar_T0  car_after  car_t_t+n  t-stat_before  \\\n",
       "0      0.149195    0.262166 -0.010915  -0.198114  -0.209028       0.320819   \n",
       "1      0.018895    0.135031  0.021753  -0.003751   0.018003       1.304754   \n",
       "2      0.015433    0.104821  0.030377   0.020168   0.050545       1.240065   \n",
       "3      0.022558    0.014642 -0.018838  -0.068183  -0.087020       0.118507   \n",
       "4      0.022551    0.035153  0.002964  -0.071018  -0.068054       0.284593   \n",
       "...         ...         ...       ...        ...        ...            ...   \n",
       "11931  0.026840   -0.107862  0.000672  -0.003968  -0.003295      -0.733722   \n",
       "11932  0.013602   -0.018956  0.009613  -0.012425  -0.002812      -0.254429   \n",
       "11933  0.019955   -0.002598 -0.017152  -0.006070  -0.023222      -0.023766   \n",
       "11934  0.011936    0.014556 -0.012699  -0.014702  -0.027401       0.222664   \n",
       "11936  0.017385   -0.126074  0.044634   0.019826   0.064460      -1.324011   \n",
       "\n",
       "       t-stat_eventdate  t-stat_after  t-stat_t_t+n  \n",
       "0             -0.073159     -0.766654     -0.700521  \n",
       "1              1.151278     -0.140361      0.550086  \n",
       "2              1.968318      0.924085      1.890921  \n",
       "3             -0.835064     -1.511242     -1.725147  \n",
       "4              0.131441     -1.818156     -1.508848  \n",
       "...                 ...           ...           ...  \n",
       "11931          0.025051     -0.104526     -0.070882  \n",
       "11932          0.706743     -0.645928     -0.119360  \n",
       "11933         -0.859573     -0.304171     -0.822891  \n",
       "11934         -1.063933     -0.871009     -1.325438  \n",
       "11936          2.567426      0.658411      1.853913  \n",
       "\n",
       "[7569 rows x 563 columns]"
      ]
     },
     "execution_count": 108,
     "metadata": {},
     "output_type": "execute_result"
    }
   ],
   "source": [
    "#Calculate t-statistics (separately for each event, but I don't use this result)\n",
    "df_IT_VNI['t-stat_before'] = df_IT_VNI['car_before']/(df_IT_VNI['sd_ar']*(30**0.5))\n",
    "df_IT_VNI['t-stat_eventdate'] = df_IT_VNI['ar_T0']/df_IT_VNI['sd_ar']\n",
    "df_IT_VNI['t-stat_after'] = df_IT_VNI['car_after']/(df_IT_VNI['sd_ar']*((df_IT_VNI['Diff_days']-1)**0.5))\n",
    "df_IT_VNI['t-stat_t_t+n'] = df_IT_VNI['car_t_t+n']/(df_IT_VNI['sd_ar']*(df_IT_VNI['Diff_days']**0.5))\n",
    "df_IT_VNI"
   ]
  },
  {
   "cell_type": "code",
   "execution_count": 109,
   "metadata": {},
   "outputs": [],
   "source": [
    "df_VNI_buy = pd.DataFrame(df_IT_VNI[(df_IT_VNI['RegisterSellVolume'].isnull())])\n",
    "df_VNI_sell = pd.DataFrame(df_IT_VNI[(df_IT_VNI['RegisterBuyVolume'].isnull())])"
   ]
  },
  {
   "cell_type": "code",
   "execution_count": 110,
   "metadata": {},
   "outputs": [
    {
     "data": {
      "text/plain": [
       "419"
      ]
     },
     "execution_count": 110,
     "metadata": {},
     "output_type": "execute_result"
    }
   ],
   "source": [
    "df_IT_VNI['StockCode'].nunique()"
   ]
  },
  {
   "cell_type": "code",
   "execution_count": 111,
   "metadata": {},
   "outputs": [],
   "source": [
    "#Form groups of events for t-test & Wilcoxon test\n",
    "\n",
    "import scipy\n",
    "from scipy.stats import norm\n",
    "from scipy.stats import wilcoxon\n",
    "\n",
    "df_buy_2 = df_VNI_buy[(df_VNI_buy['Diff_days']==2)]\n",
    "df_sell_2 = df_VNI_sell[(df_VNI_sell['Diff_days']==2)]\n",
    "\n",
    "df_buy_3 = df_VNI_buy[(df_VNI_buy['Diff_days']==3)]\n",
    "df_sell_3 = df_VNI_sell[(df_VNI_sell['Diff_days']==3)]\n",
    "\n",
    "df_buy_4 = df_VNI_buy[(df_VNI_buy['Diff_days']==4)]\n",
    "df_sell_4 = df_VNI_sell[(df_VNI_sell['Diff_days']==4)]\n",
    "\n",
    "df_buy_5 = df_VNI_buy[(df_VNI_buy['Diff_days']==5)]\n",
    "df_sell_5 = df_VNI_sell[(df_VNI_sell['Diff_days']==5)]"
   ]
  },
  {
   "cell_type": "code",
   "execution_count": 112,
   "metadata": {},
   "outputs": [
    {
     "data": {
      "text/plain": [
       "(20576.0, 2.8117355457079402e-05, -4.188201714931374, 0.005951037100448537)"
      ]
     },
     "execution_count": 112,
     "metadata": {},
     "output_type": "execute_result"
    }
   ],
   "source": [
    "#Wilcoxon tests\n",
    "w2b, p2b = wilcoxon(df_buy_2[\"car_t_t+n\"])\n",
    "w2b, p2b, norm.ppf(p2b/2), df_buy_2[\"car_t_t+n\"].median()"
   ]
  },
  {
   "cell_type": "code",
   "execution_count": 113,
   "metadata": {},
   "outputs": [
    {
     "data": {
      "text/plain": [
       "(68195.0, 0.3285640388359071, -0.9770103289550282, -0.002112881787818543)"
      ]
     },
     "execution_count": 113,
     "metadata": {},
     "output_type": "execute_result"
    }
   ],
   "source": [
    "w2s, p2s = wilcoxon(df_sell_2[\"car_t_t+n\"])\n",
    "w2s, p2s, norm.ppf(p2s/2), df_sell_2[\"car_t_t+n\"].median()"
   ]
  },
  {
   "cell_type": "code",
   "execution_count": 114,
   "metadata": {},
   "outputs": [
    {
     "data": {
      "text/plain": [
       "(799279.0, 3.1387097585918036e-14, -7.5924671894605815, 0.004412995075385951)"
      ]
     },
     "execution_count": 114,
     "metadata": {},
     "output_type": "execute_result"
    }
   ],
   "source": [
    "w3b, p3b = wilcoxon(df_buy_3[\"car_t_t+n\"])\n",
    "w3b, p3b, norm.ppf(p3b/2), df_buy_3[\"car_t_t+n\"].median()"
   ]
  },
  {
   "cell_type": "code",
   "execution_count": 115,
   "metadata": {},
   "outputs": [
    {
     "data": {
      "text/plain": [
       "(1583064.0,\n",
       " 3.9510510280939785e-13,\n",
       " -7.2572274224143944,\n",
       " -0.0061437091013183285)"
      ]
     },
     "execution_count": 115,
     "metadata": {},
     "output_type": "execute_result"
    }
   ],
   "source": [
    "w3s, p3s = wilcoxon(df_sell_3[\"car_t_t+n\"])\n",
    "w3s, p3s, norm.ppf(p3s/2), df_sell_3[\"car_t_t+n\"].median()"
   ]
  },
  {
   "cell_type": "code",
   "execution_count": 116,
   "metadata": {},
   "outputs": [
    {
     "data": {
      "text/plain": [
       "(68387.0, 7.470189976116405e-07, -4.948723182015137, 0.006640250097040458)"
      ]
     },
     "execution_count": 116,
     "metadata": {},
     "output_type": "execute_result"
    }
   ],
   "source": [
    "w4b, p4b = wilcoxon(df_buy_4[\"car_t_t+n\"])\n",
    "w4b, p4b, norm.ppf(p4b/2), df_buy_4[\"car_t_t+n\"].median()"
   ]
  },
  {
   "cell_type": "code",
   "execution_count": 117,
   "metadata": {},
   "outputs": [
    {
     "data": {
      "text/plain": [
       "(124368.0, 0.00036540272496161924, -3.563887418687802, -0.006712968548458486)"
      ]
     },
     "execution_count": 117,
     "metadata": {},
     "output_type": "execute_result"
    }
   ],
   "source": [
    "w4s, p4s = wilcoxon(df_sell_4[\"car_t_t+n\"])\n",
    "w4s, p4s, norm.ppf(p4s/2), df_sell_4[\"car_t_t+n\"].median()"
   ]
  },
  {
   "cell_type": "code",
   "execution_count": 118,
   "metadata": {},
   "outputs": [
    {
     "data": {
      "text/plain": [
       "(3750.0, 0.026283177877233232, -2.2220018899404668, 0.007712945798945186)"
      ]
     },
     "execution_count": 118,
     "metadata": {},
     "output_type": "execute_result"
    }
   ],
   "source": [
    "w5b, p5b = wilcoxon(df_buy_5[\"car_t_t+n\"])\n",
    "w5b, p5b, norm.ppf(p5b/2), df_buy_5[\"car_t_t+n\"].median()"
   ]
  },
  {
   "cell_type": "code",
   "execution_count": 119,
   "metadata": {},
   "outputs": [
    {
     "data": {
      "text/plain": [
       "(6221.0, 0.027547106314603668, -2.2036764527108303, -0.0089761199821385)"
      ]
     },
     "execution_count": 119,
     "metadata": {},
     "output_type": "execute_result"
    }
   ],
   "source": [
    "w5s, p5s = wilcoxon(df_sell_5[\"car_t_t+n\"])\n",
    "w5s, p5s, norm.ppf(p5s/2), df_sell_5[\"car_t_t+n\"].median()"
   ]
  },
  {
   "cell_type": "code",
   "execution_count": 120,
   "metadata": {},
   "outputs": [
    {
     "data": {
      "text/plain": [
       "(3.5144413527943152,\n",
       " 0.0005016269918687713,\n",
       " 0.007352701880720926,\n",
       " 0.038235246165517565,\n",
       " 334)"
      ]
     },
     "execution_count": 120,
     "metadata": {},
     "output_type": "execute_result"
    }
   ],
   "source": [
    "#t-test\n",
    "import scipy.integrate \n",
    "\n",
    "from scipy import stats\n",
    "\n",
    "tstat_VNI_2_buy, pval_VNI_2_buy = scipy.stats.ttest_1samp(df_buy_2['car_t_t+n'],0,alternative='two-sided')\n",
    "tstat_VNI_2_buy, pval_VNI_2_buy, df_buy_2['car_t_t+n'].mean(), df_buy_2['car_t_t+n'].std(), len(df_buy_2)"
   ]
  },
  {
   "cell_type": "code",
   "execution_count": 121,
   "metadata": {},
   "outputs": [
    {
     "data": {
      "text/plain": [
       "(0.31887509095598926,\n",
       " 0.7499459217917067,\n",
       " 0.0007297736565861349,\n",
       " 0.05293519017163029,\n",
       " 535)"
      ]
     },
     "execution_count": 121,
     "metadata": {},
     "output_type": "execute_result"
    }
   ],
   "source": [
    "tstat_VNI_2_sell, pval_VNI_2_sell = scipy.stats.ttest_1samp(df_sell_2['car_t_t+n'],0,alternative='two-sided')\n",
    "tstat_VNI_2_sell, pval_VNI_2_sell, df_sell_2['car_t_t+n'].mean(), df_sell_2['car_t_t+n'].std(), len(df_sell_2)"
   ]
  },
  {
   "cell_type": "code",
   "execution_count": 122,
   "metadata": {},
   "outputs": [
    {
     "data": {
      "text/plain": [
       "(6.805701379891468,\n",
       " 1.3257180796031993e-11,\n",
       " 0.008249262023883062,\n",
       " 0.05412585705044227,\n",
       " 1994)"
      ]
     },
     "execution_count": 122,
     "metadata": {},
     "output_type": "execute_result"
    }
   ],
   "source": [
    "tstat_VNI_3_buy, pval_VNI_3_buy = scipy.stats.ttest_1samp(df_buy_3['car_t_t+n'],0,alternative='two-sided')\n",
    "tstat_VNI_3_buy, pval_VNI_3_buy, df_buy_3['car_t_t+n'].mean(), df_buy_3['car_t_t+n'].std(), len(df_buy_3)"
   ]
  },
  {
   "cell_type": "code",
   "execution_count": 123,
   "metadata": {},
   "outputs": [
    {
     "data": {
      "text/plain": [
       "(-4.837662833355039,\n",
       " 1.3863581477602316e-06,\n",
       " -0.005036922229009227,\n",
       " 0.05455076223046831,\n",
       " 2745)"
      ]
     },
     "execution_count": 123,
     "metadata": {},
     "output_type": "execute_result"
    }
   ],
   "source": [
    "tstat_VNI_3_sell, pval_VNI_3_sell = scipy.stats.ttest_1samp(df_sell_3['car_t_t+n'],0,alternative='two-sided')\n",
    "tstat_VNI_3_sell, pval_VNI_3_sell, df_sell_3['car_t_t+n'].mean(), df_sell_3['car_t_t+n'].std(), len(df_sell_3)"
   ]
  },
  {
   "cell_type": "code",
   "execution_count": 124,
   "metadata": {},
   "outputs": [
    {
     "data": {
      "text/plain": [
       "(4.745726211197075,\n",
       " 2.6038826415091496e-06,\n",
       " 0.012130194086992336,\n",
       " 0.06245284625528437,\n",
       " 597)"
      ]
     },
     "execution_count": 124,
     "metadata": {},
     "output_type": "execute_result"
    }
   ],
   "source": [
    "tstat_VNI_4_buy, pval_VNI_4_buy = scipy.stats.ttest_1samp(df_buy_4['car_t_t+n'],0,alternative='two-sided')\n",
    "tstat_VNI_4_buy, pval_VNI_4_buy, df_buy_4['car_t_t+n'].mean(), df_buy_4['car_t_t+n'].std(), len(df_buy_4)"
   ]
  },
  {
   "cell_type": "code",
   "execution_count": 125,
   "metadata": {},
   "outputs": [
    {
     "data": {
      "text/plain": [
       "(-0.32780462024669643,\n",
       " 0.7431493198362904,\n",
       " -0.0010368543253336665,\n",
       " 0.08742776023057665,\n",
       " 764)"
      ]
     },
     "execution_count": 125,
     "metadata": {},
     "output_type": "execute_result"
    }
   ],
   "source": [
    "tstat_VNI_4_sell, pval_VNI_4_sell = scipy.stats.ttest_1samp(df_sell_4['car_t_t+n'],0,alternative='two-sided')\n",
    "tstat_VNI_4_sell, pval_VNI_4_sell, df_sell_4['car_t_t+n'].mean(), df_sell_4['car_t_t+n'].std(), len(df_sell_4)"
   ]
  },
  {
   "cell_type": "code",
   "execution_count": 126,
   "metadata": {},
   "outputs": [
    {
     "data": {
      "text/plain": [
       "(2.1249148088438736,\n",
       " 0.03538891020736341,\n",
       " 0.016249677752118392,\n",
       " 0.08983442097193524,\n",
       " 138)"
      ]
     },
     "execution_count": 126,
     "metadata": {},
     "output_type": "execute_result"
    }
   ],
   "source": [
    "tstat_VNI_5_buy, pval_VNI_5_buy = scipy.stats.ttest_1samp(df_buy_5['car_t_t+n'],0,alternative='two-sided')\n",
    "tstat_VNI_5_buy, pval_VNI_5_buy, df_buy_5['car_t_t+n'].mean(), df_buy_5['car_t_t+n'].std(), len(df_buy_5)"
   ]
  },
  {
   "cell_type": "code",
   "execution_count": 127,
   "metadata": {},
   "outputs": [
    {
     "data": {
      "text/plain": [
       "(-1.7199008511847163,\n",
       " 0.08722848809129566,\n",
       " -0.009745822469488631,\n",
       " 0.07496078206569537,\n",
       " 175)"
      ]
     },
     "execution_count": 127,
     "metadata": {},
     "output_type": "execute_result"
    }
   ],
   "source": [
    "tstat_VNI_5_sell, pval_VNI_5_sell = scipy.stats.ttest_1samp(df_sell_5['car_t_t+n'],0,alternative='two-sided')\n",
    "tstat_VNI_5_sell, pval_VNI_5_sell, df_sell_5['car_t_t+n'].mean(), df_sell_5['car_t_t+n'].std(), len(df_sell_5)"
   ]
  },
  {
   "cell_type": "code",
   "execution_count": null,
   "metadata": {},
   "outputs": [],
   "source": []
  }
 ],
 "metadata": {
  "kernelspec": {
   "display_name": "Python 3",
   "language": "python",
   "name": "python3"
  },
  "language_info": {
   "codemirror_mode": {
    "name": "ipython",
    "version": 3
   },
   "file_extension": ".py",
   "mimetype": "text/x-python",
   "name": "python",
   "nbconvert_exporter": "python",
   "pygments_lexer": "ipython3",
   "version": "3.8.5"
  }
 },
 "nbformat": 4,
 "nbformat_minor": 4
}
